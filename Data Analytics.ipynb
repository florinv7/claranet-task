{
 "cells": [
  {
   "cell_type": "code",
   "execution_count": 1,
   "metadata": {},
   "outputs": [],
   "source": [
    "import os\n",
    "import json\n",
    "import pandas as pd\n",
    "pd.set_option('display.max_colwidth', 1000)"
   ]
  },
  {
   "cell_type": "code",
   "execution_count": 2,
   "metadata": {},
   "outputs": [],
   "source": [
    "import matplotlib.pyplot as plt\n",
    "\n",
    "import seaborn as sns"
   ]
  },
  {
   "cell_type": "code",
   "execution_count": 3,
   "metadata": {},
   "outputs": [],
   "source": [
    "data_dir = \"./data\""
   ]
  },
  {
   "cell_type": "code",
   "execution_count": 4,
   "metadata": {},
   "outputs": [],
   "source": [
    "files = os.listdir(data_dir)"
   ]
  },
  {
   "cell_type": "code",
   "execution_count": 5,
   "metadata": {},
   "outputs": [
    {
     "data": {
      "text/plain": [
       "['tpch.sql', 'slow_log.json', 'general_log.json']"
      ]
     },
     "execution_count": 5,
     "metadata": {},
     "output_type": "execute_result"
    }
   ],
   "source": [
    "files"
   ]
  },
  {
   "cell_type": "code",
   "execution_count": 6,
   "metadata": {},
   "outputs": [],
   "source": [
    "df_general_logs = pd.read_json(data_dir+'/general_log.json')"
   ]
  },
  {
   "cell_type": "code",
   "execution_count": 7,
   "metadata": {},
   "outputs": [
    {
     "data": {
      "text/html": [
       "<div>\n",
       "<style scoped>\n",
       "    .dataframe tbody tr th:only-of-type {\n",
       "        vertical-align: middle;\n",
       "    }\n",
       "\n",
       "    .dataframe tbody tr th {\n",
       "        vertical-align: top;\n",
       "    }\n",
       "\n",
       "    .dataframe thead th {\n",
       "        text-align: right;\n",
       "    }\n",
       "</style>\n",
       "<table border=\"1\" class=\"dataframe\">\n",
       "  <thead>\n",
       "    <tr style=\"text-align: right;\">\n",
       "      <th></th>\n",
       "      <th>event_time</th>\n",
       "      <th>user_host</th>\n",
       "      <th>thread_id</th>\n",
       "      <th>server_id</th>\n",
       "      <th>command_type</th>\n",
       "      <th>argument</th>\n",
       "    </tr>\n",
       "  </thead>\n",
       "  <tbody>\n",
       "    <tr>\n",
       "      <th>0</th>\n",
       "      <td>2021-01-14 15:19:54.549896</td>\n",
       "      <td>guest[guest] @  [185.9.209.177]</td>\n",
       "      <td>67</td>\n",
       "      <td>97408076</td>\n",
       "      <td>Query</td>\n",
       "      <td>/* ApplicationName=DataGrip 2020.2.3 */ select * from mysql.general_log where event_time &gt; '2021-01-14 11:20:54.451611' order by event_time desc</td>\n",
       "    </tr>\n",
       "    <tr>\n",
       "      <th>1</th>\n",
       "      <td>2021-01-14 15:19:54.489750</td>\n",
       "      <td>guest[guest] @  [185.9.209.177]</td>\n",
       "      <td>67</td>\n",
       "      <td>97408076</td>\n",
       "      <td>Query</td>\n",
       "      <td>/* ApplicationName=DataGrip 2020.2.3 */ SET net_write_timeout=600</td>\n",
       "    </tr>\n",
       "    <tr>\n",
       "      <th>2</th>\n",
       "      <td>2021-01-14 15:19:54.430215</td>\n",
       "      <td>guest[guest] @  [185.9.209.177]</td>\n",
       "      <td>67</td>\n",
       "      <td>97408076</td>\n",
       "      <td>Query</td>\n",
       "      <td>SHOW WARNINGS</td>\n",
       "    </tr>\n",
       "    <tr>\n",
       "      <th>3</th>\n",
       "      <td>2021-01-14 15:19:54.369984</td>\n",
       "      <td>guest[guest] @  [185.9.209.177]</td>\n",
       "      <td>67</td>\n",
       "      <td>97408076</td>\n",
       "      <td>Query</td>\n",
       "      <td>SHOW WARNINGS</td>\n",
       "    </tr>\n",
       "    <tr>\n",
       "      <th>4</th>\n",
       "      <td>2021-01-14 15:19:54.310359</td>\n",
       "      <td>guest[guest] @  [185.9.209.177]</td>\n",
       "      <td>67</td>\n",
       "      <td>97408076</td>\n",
       "      <td>Query</td>\n",
       "      <td>/* ApplicationName=DataGrip 2020.2.3 */ select database()</td>\n",
       "    </tr>\n",
       "  </tbody>\n",
       "</table>\n",
       "</div>"
      ],
      "text/plain": [
       "                  event_time                        user_host  thread_id  \\\n",
       "0 2021-01-14 15:19:54.549896  guest[guest] @  [185.9.209.177]         67   \n",
       "1 2021-01-14 15:19:54.489750  guest[guest] @  [185.9.209.177]         67   \n",
       "2 2021-01-14 15:19:54.430215  guest[guest] @  [185.9.209.177]         67   \n",
       "3 2021-01-14 15:19:54.369984  guest[guest] @  [185.9.209.177]         67   \n",
       "4 2021-01-14 15:19:54.310359  guest[guest] @  [185.9.209.177]         67   \n",
       "\n",
       "   server_id command_type  \\\n",
       "0   97408076        Query   \n",
       "1   97408076        Query   \n",
       "2   97408076        Query   \n",
       "3   97408076        Query   \n",
       "4   97408076        Query   \n",
       "\n",
       "                                                                                                                                           argument  \n",
       "0  /* ApplicationName=DataGrip 2020.2.3 */ select * from mysql.general_log where event_time > '2021-01-14 11:20:54.451611' order by event_time desc  \n",
       "1                                                                                 /* ApplicationName=DataGrip 2020.2.3 */ SET net_write_timeout=600  \n",
       "2                                                                                                                                     SHOW WARNINGS  \n",
       "3                                                                                                                                     SHOW WARNINGS  \n",
       "4                                                                                         /* ApplicationName=DataGrip 2020.2.3 */ select database()  "
      ]
     },
     "execution_count": 7,
     "metadata": {},
     "output_type": "execute_result"
    }
   ],
   "source": [
    "df_general_logs.head()"
   ]
  },
  {
   "cell_type": "code",
   "execution_count": 8,
   "metadata": {},
   "outputs": [],
   "source": [
    "df_slow_logs = pd.read_json(data_dir+'/slow_log.json', convert_dates=False)"
   ]
  },
  {
   "cell_type": "code",
   "execution_count": 9,
   "metadata": {
    "scrolled": false
   },
   "outputs": [
    {
     "data": {
      "text/html": [
       "<div>\n",
       "<style scoped>\n",
       "    .dataframe tbody tr th:only-of-type {\n",
       "        vertical-align: middle;\n",
       "    }\n",
       "\n",
       "    .dataframe tbody tr th {\n",
       "        vertical-align: top;\n",
       "    }\n",
       "\n",
       "    .dataframe thead th {\n",
       "        text-align: right;\n",
       "    }\n",
       "</style>\n",
       "<table border=\"1\" class=\"dataframe\">\n",
       "  <thead>\n",
       "    <tr style=\"text-align: right;\">\n",
       "      <th></th>\n",
       "      <th>start_time</th>\n",
       "      <th>user_host</th>\n",
       "      <th>query_time</th>\n",
       "      <th>lock_time</th>\n",
       "      <th>rows_sent</th>\n",
       "      <th>rows_examined</th>\n",
       "      <th>db</th>\n",
       "      <th>last_insert_id</th>\n",
       "      <th>insert_id</th>\n",
       "      <th>server_id</th>\n",
       "      <th>sql_text</th>\n",
       "      <th>thread_id</th>\n",
       "    </tr>\n",
       "  </thead>\n",
       "  <tbody>\n",
       "    <tr>\n",
       "      <th>0</th>\n",
       "      <td>2021-01-14 15:11:51.815988</td>\n",
       "      <td>guest[guest] @  [185.9.209.177]</td>\n",
       "      <td>00:00:00.000093</td>\n",
       "      <td>00:00:00</td>\n",
       "      <td>0</td>\n",
       "      <td>0</td>\n",
       "      <td>tpch</td>\n",
       "      <td>0</td>\n",
       "      <td>0</td>\n",
       "      <td>97408076</td>\n",
       "      <td>/* ApplicationName=DataGrip 2020.2.3 */ SET net_write_timeout=600</td>\n",
       "      <td>67</td>\n",
       "    </tr>\n",
       "    <tr>\n",
       "      <th>1</th>\n",
       "      <td>2021-01-14 15:11:51.749969</td>\n",
       "      <td>guest[guest] @  [185.9.209.177]</td>\n",
       "      <td>00:00:00.000055</td>\n",
       "      <td>00:00:00</td>\n",
       "      <td>0</td>\n",
       "      <td>0</td>\n",
       "      <td>tpch</td>\n",
       "      <td>0</td>\n",
       "      <td>0</td>\n",
       "      <td>97408076</td>\n",
       "      <td>SHOW WARNINGS</td>\n",
       "      <td>67</td>\n",
       "    </tr>\n",
       "    <tr>\n",
       "      <th>2</th>\n",
       "      <td>2021-01-14 15:11:51.687122</td>\n",
       "      <td>guest[guest] @  [185.9.209.177]</td>\n",
       "      <td>00:00:00.000076</td>\n",
       "      <td>00:00:00</td>\n",
       "      <td>0</td>\n",
       "      <td>0</td>\n",
       "      <td>tpch</td>\n",
       "      <td>0</td>\n",
       "      <td>0</td>\n",
       "      <td>97408076</td>\n",
       "      <td>SHOW WARNINGS</td>\n",
       "      <td>67</td>\n",
       "    </tr>\n",
       "    <tr>\n",
       "      <th>3</th>\n",
       "      <td>2021-01-14 15:11:51.623647</td>\n",
       "      <td>guest[guest] @  [185.9.209.177]</td>\n",
       "      <td>00:00:00.000138</td>\n",
       "      <td>00:00:00</td>\n",
       "      <td>1</td>\n",
       "      <td>1</td>\n",
       "      <td>tpch</td>\n",
       "      <td>0</td>\n",
       "      <td>0</td>\n",
       "      <td>97408076</td>\n",
       "      <td>/* ApplicationName=DataGrip 2020.2.3 */ select database()</td>\n",
       "      <td>67</td>\n",
       "    </tr>\n",
       "    <tr>\n",
       "      <th>4</th>\n",
       "      <td>2021-01-14 15:11:51.562513</td>\n",
       "      <td>guest[guest] @  [185.9.209.177]</td>\n",
       "      <td>00:00:00.000090</td>\n",
       "      <td>00:00:00</td>\n",
       "      <td>0</td>\n",
       "      <td>0</td>\n",
       "      <td>tpch</td>\n",
       "      <td>0</td>\n",
       "      <td>0</td>\n",
       "      <td>97408076</td>\n",
       "      <td>/* ApplicationName=DataGrip 2020.2.3 */ SET SQL_SELECT_LIMIT=DEFAULT</td>\n",
       "      <td>67</td>\n",
       "    </tr>\n",
       "  </tbody>\n",
       "</table>\n",
       "</div>"
      ],
      "text/plain": [
       "                   start_time                        user_host  \\\n",
       "0  2021-01-14 15:11:51.815988  guest[guest] @  [185.9.209.177]   \n",
       "1  2021-01-14 15:11:51.749969  guest[guest] @  [185.9.209.177]   \n",
       "2  2021-01-14 15:11:51.687122  guest[guest] @  [185.9.209.177]   \n",
       "3  2021-01-14 15:11:51.623647  guest[guest] @  [185.9.209.177]   \n",
       "4  2021-01-14 15:11:51.562513  guest[guest] @  [185.9.209.177]   \n",
       "\n",
       "        query_time lock_time  rows_sent  rows_examined    db  last_insert_id  \\\n",
       "0  00:00:00.000093  00:00:00          0              0  tpch               0   \n",
       "1  00:00:00.000055  00:00:00          0              0  tpch               0   \n",
       "2  00:00:00.000076  00:00:00          0              0  tpch               0   \n",
       "3  00:00:00.000138  00:00:00          1              1  tpch               0   \n",
       "4  00:00:00.000090  00:00:00          0              0  tpch               0   \n",
       "\n",
       "   insert_id  server_id  \\\n",
       "0          0   97408076   \n",
       "1          0   97408076   \n",
       "2          0   97408076   \n",
       "3          0   97408076   \n",
       "4          0   97408076   \n",
       "\n",
       "                                                               sql_text  \\\n",
       "0     /* ApplicationName=DataGrip 2020.2.3 */ SET net_write_timeout=600   \n",
       "1                                                         SHOW WARNINGS   \n",
       "2                                                         SHOW WARNINGS   \n",
       "3             /* ApplicationName=DataGrip 2020.2.3 */ select database()   \n",
       "4  /* ApplicationName=DataGrip 2020.2.3 */ SET SQL_SELECT_LIMIT=DEFAULT   \n",
       "\n",
       "   thread_id  \n",
       "0         67  \n",
       "1         67  \n",
       "2         67  \n",
       "3         67  \n",
       "4         67  "
      ]
     },
     "execution_count": 9,
     "metadata": {},
     "output_type": "execute_result"
    }
   ],
   "source": [
    "df_slow_logs.head()"
   ]
  },
  {
   "cell_type": "markdown",
   "metadata": {},
   "source": [
    "# SLOW LOG - PREPROCESSING"
   ]
  },
  {
   "cell_type": "markdown",
   "metadata": {},
   "source": [
    "### rows_sent"
   ]
  },
  {
   "cell_type": "code",
   "execution_count": 10,
   "metadata": {},
   "outputs": [
    {
     "data": {
      "text/plain": [
       "1462"
      ]
     },
     "execution_count": 10,
     "metadata": {},
     "output_type": "execute_result"
    }
   ],
   "source": [
    "len(set(df_slow_logs['rows_sent']))"
   ]
  },
  {
   "cell_type": "code",
   "execution_count": 11,
   "metadata": {},
   "outputs": [
    {
     "data": {
      "text/html": [
       "<div>\n",
       "<style scoped>\n",
       "    .dataframe tbody tr th:only-of-type {\n",
       "        vertical-align: middle;\n",
       "    }\n",
       "\n",
       "    .dataframe tbody tr th {\n",
       "        vertical-align: top;\n",
       "    }\n",
       "\n",
       "    .dataframe thead th {\n",
       "        text-align: right;\n",
       "    }\n",
       "</style>\n",
       "<table border=\"1\" class=\"dataframe\">\n",
       "  <thead>\n",
       "    <tr style=\"text-align: right;\">\n",
       "      <th></th>\n",
       "      <th>start_time</th>\n",
       "      <th>user_host</th>\n",
       "      <th>query_time</th>\n",
       "      <th>lock_time</th>\n",
       "      <th>rows_sent</th>\n",
       "      <th>rows_examined</th>\n",
       "      <th>db</th>\n",
       "      <th>last_insert_id</th>\n",
       "      <th>insert_id</th>\n",
       "      <th>server_id</th>\n",
       "      <th>sql_text</th>\n",
       "      <th>thread_id</th>\n",
       "    </tr>\n",
       "  </thead>\n",
       "  <tbody>\n",
       "  </tbody>\n",
       "</table>\n",
       "</div>"
      ],
      "text/plain": [
       "Empty DataFrame\n",
       "Columns: [start_time, user_host, query_time, lock_time, rows_sent, rows_examined, db, last_insert_id, insert_id, server_id, sql_text, thread_id]\n",
       "Index: []"
      ]
     },
     "execution_count": 11,
     "metadata": {},
     "output_type": "execute_result"
    }
   ],
   "source": [
    "df_slow_logs[df_slow_logs['rows_sent'].isna()]"
   ]
  },
  {
   "cell_type": "markdown",
   "metadata": {},
   "source": [
    "### rows_examined"
   ]
  },
  {
   "cell_type": "code",
   "execution_count": 12,
   "metadata": {},
   "outputs": [
    {
     "data": {
      "text/plain": [
       "2342"
      ]
     },
     "execution_count": 12,
     "metadata": {},
     "output_type": "execute_result"
    }
   ],
   "source": [
    "len(set(df_slow_logs['rows_examined']))"
   ]
  },
  {
   "cell_type": "code",
   "execution_count": 13,
   "metadata": {},
   "outputs": [
    {
     "data": {
      "text/html": [
       "<div>\n",
       "<style scoped>\n",
       "    .dataframe tbody tr th:only-of-type {\n",
       "        vertical-align: middle;\n",
       "    }\n",
       "\n",
       "    .dataframe tbody tr th {\n",
       "        vertical-align: top;\n",
       "    }\n",
       "\n",
       "    .dataframe thead th {\n",
       "        text-align: right;\n",
       "    }\n",
       "</style>\n",
       "<table border=\"1\" class=\"dataframe\">\n",
       "  <thead>\n",
       "    <tr style=\"text-align: right;\">\n",
       "      <th></th>\n",
       "      <th>start_time</th>\n",
       "      <th>user_host</th>\n",
       "      <th>query_time</th>\n",
       "      <th>lock_time</th>\n",
       "      <th>rows_sent</th>\n",
       "      <th>rows_examined</th>\n",
       "      <th>db</th>\n",
       "      <th>last_insert_id</th>\n",
       "      <th>insert_id</th>\n",
       "      <th>server_id</th>\n",
       "      <th>sql_text</th>\n",
       "      <th>thread_id</th>\n",
       "    </tr>\n",
       "  </thead>\n",
       "  <tbody>\n",
       "  </tbody>\n",
       "</table>\n",
       "</div>"
      ],
      "text/plain": [
       "Empty DataFrame\n",
       "Columns: [start_time, user_host, query_time, lock_time, rows_sent, rows_examined, db, last_insert_id, insert_id, server_id, sql_text, thread_id]\n",
       "Index: []"
      ]
     },
     "execution_count": 13,
     "metadata": {},
     "output_type": "execute_result"
    }
   ],
   "source": [
    "df_slow_logs[df_slow_logs['rows_examined'].isna()]"
   ]
  },
  {
   "cell_type": "markdown",
   "metadata": {},
   "source": [
    "## check if possible to remove some columns if they are not significant"
   ]
  },
  {
   "cell_type": "markdown",
   "metadata": {},
   "source": [
    "## id columns"
   ]
  },
  {
   "cell_type": "code",
   "execution_count": 14,
   "metadata": {},
   "outputs": [
    {
     "data": {
      "text/plain": [
       "1"
      ]
     },
     "execution_count": 14,
     "metadata": {},
     "output_type": "execute_result"
    }
   ],
   "source": [
    "len(set(df_slow_logs['last_insert_id']))"
   ]
  },
  {
   "cell_type": "code",
   "execution_count": 15,
   "metadata": {},
   "outputs": [],
   "source": [
    "del df_slow_logs['last_insert_id']"
   ]
  },
  {
   "cell_type": "code",
   "execution_count": 16,
   "metadata": {},
   "outputs": [
    {
     "data": {
      "text/plain": [
       "1"
      ]
     },
     "execution_count": 16,
     "metadata": {},
     "output_type": "execute_result"
    }
   ],
   "source": [
    "len(set(df_slow_logs['insert_id']))"
   ]
  },
  {
   "cell_type": "code",
   "execution_count": 17,
   "metadata": {},
   "outputs": [],
   "source": [
    "del df_slow_logs['insert_id']"
   ]
  },
  {
   "cell_type": "code",
   "execution_count": 18,
   "metadata": {},
   "outputs": [
    {
     "data": {
      "text/plain": [
       "1"
      ]
     },
     "execution_count": 18,
     "metadata": {},
     "output_type": "execute_result"
    }
   ],
   "source": [
    "len(set(df_slow_logs['server_id']))"
   ]
  },
  {
   "cell_type": "code",
   "execution_count": 19,
   "metadata": {},
   "outputs": [],
   "source": [
    "del df_slow_logs['server_id']"
   ]
  },
  {
   "cell_type": "code",
   "execution_count": 20,
   "metadata": {},
   "outputs": [
    {
     "data": {
      "text/plain": [
       "52"
      ]
     },
     "execution_count": 20,
     "metadata": {},
     "output_type": "execute_result"
    }
   ],
   "source": [
    "len(set(df_slow_logs['thread_id']))"
   ]
  },
  {
   "cell_type": "markdown",
   "metadata": {},
   "source": [
    "### start_time"
   ]
  },
  {
   "cell_type": "code",
   "execution_count": 21,
   "metadata": {},
   "outputs": [
    {
     "data": {
      "text/plain": [
       "15688"
      ]
     },
     "execution_count": 21,
     "metadata": {},
     "output_type": "execute_result"
    }
   ],
   "source": [
    "len(set(df_slow_logs['start_time']))"
   ]
  },
  {
   "cell_type": "code",
   "execution_count": 22,
   "metadata": {},
   "outputs": [],
   "source": [
    "# the same length of the df, it may be not necessary\n",
    "del df_slow_logs['start_time']"
   ]
  },
  {
   "cell_type": "markdown",
   "metadata": {},
   "source": [
    "### db"
   ]
  },
  {
   "cell_type": "code",
   "execution_count": 23,
   "metadata": {},
   "outputs": [
    {
     "data": {
      "text/plain": [
       "2"
      ]
     },
     "execution_count": 23,
     "metadata": {},
     "output_type": "execute_result"
    }
   ],
   "source": [
    "len(set(df_slow_logs['db']))"
   ]
  },
  {
   "cell_type": "code",
   "execution_count": 24,
   "metadata": {},
   "outputs": [
    {
     "data": {
      "text/plain": [
       "{'', 'tpch'}"
      ]
     },
     "execution_count": 24,
     "metadata": {},
     "output_type": "execute_result"
    }
   ],
   "source": [
    "set(df_slow_logs['db'])"
   ]
  },
  {
   "cell_type": "code",
   "execution_count": 25,
   "metadata": {},
   "outputs": [
    {
     "data": {
      "text/plain": [
       "9248"
      ]
     },
     "execution_count": 25,
     "metadata": {},
     "output_type": "execute_result"
    }
   ],
   "source": [
    "len(df_slow_logs[(df_slow_logs['db'] == '')])"
   ]
  },
  {
   "cell_type": "code",
   "execution_count": 26,
   "metadata": {},
   "outputs": [],
   "source": [
    "# assign \"NO-DB\" label to records with empty db value\n",
    "df_slow_logs.loc[(df_slow_logs['db'] == ''), 'db'] = \"NO-DB\""
   ]
  },
  {
   "cell_type": "markdown",
   "metadata": {},
   "source": [
    "### user_host"
   ]
  },
  {
   "cell_type": "code",
   "execution_count": 27,
   "metadata": {},
   "outputs": [
    {
     "data": {
      "text/plain": [
       "{'guest[guest] @  [172.31.36.183]',\n",
       " 'guest[guest] @  [185.9.209.177]',\n",
       " 'rdsadmin[rdsadmin] @ localhost [127.0.0.1]',\n",
       " 'rdsadmin[rdsadmin] @ localhost []'}"
      ]
     },
     "execution_count": 27,
     "metadata": {},
     "output_type": "execute_result"
    }
   ],
   "source": [
    "set(df_slow_logs['user_host'])"
   ]
  },
  {
   "cell_type": "code",
   "execution_count": 28,
   "metadata": {},
   "outputs": [],
   "source": [
    "def get_category_user_host(user_host):\n",
    "    if(user_host == 'guest[guest] @  [172.31.36.183]'):\n",
    "        return 'G-172'\n",
    "    if(user_host == 'guest[guest] @  [185.9.209.177]'):\n",
    "        return 'G-185'\n",
    "    if(user_host == 'rdsadmin[rdsadmin] @ localhost [127.0.0.1]'):\n",
    "        return 'R-127'\n",
    "    if(user_host == 'rdsadmin[rdsadmin] @ localhost []'):\n",
    "        return 'R-L'\n",
    "    print(user_host)\n",
    "    print(\"ERROR category user\")"
   ]
  },
  {
   "cell_type": "code",
   "execution_count": 29,
   "metadata": {},
   "outputs": [],
   "source": [
    "df_slow_logs['user_host'] = df_slow_logs['user_host'].apply(lambda x: get_category_user_host(x))"
   ]
  },
  {
   "cell_type": "markdown",
   "metadata": {},
   "source": [
    "## check max for lock and query time"
   ]
  },
  {
   "cell_type": "code",
   "execution_count": 30,
   "metadata": {},
   "outputs": [
    {
     "data": {
      "text/plain": [
       "'00:00:00.071033'"
      ]
     },
     "execution_count": 30,
     "metadata": {},
     "output_type": "execute_result"
    }
   ],
   "source": [
    "df_slow_logs['lock_time'].max()"
   ]
  },
  {
   "cell_type": "code",
   "execution_count": 31,
   "metadata": {},
   "outputs": [
    {
     "data": {
      "text/plain": [
       "'00:00:11.073425'"
      ]
     },
     "execution_count": 31,
     "metadata": {},
     "output_type": "execute_result"
    }
   ],
   "source": [
    "df_slow_logs['query_time'].max()"
   ]
  },
  {
   "cell_type": "markdown",
   "metadata": {},
   "source": [
    "## depending on the max we can apply different formatting "
   ]
  },
  {
   "cell_type": "code",
   "execution_count": 32,
   "metadata": {},
   "outputs": [],
   "source": [
    "def get_numerical_value_lock_time(lock_time):\n",
    "    '''\n",
    "    Convert the string to a number by getting the digits after the \".\"\n",
    "    '''\n",
    "    if len(lock_time.split(\".\")) > 1:\n",
    "        return int(lock_time.split(\".\")[1])\n",
    "    else:\n",
    "        if(lock_time == \"00:00:00\"):\n",
    "            return 0\n",
    "        else:\n",
    "            print(lock_time)"
   ]
  },
  {
   "cell_type": "code",
   "execution_count": 33,
   "metadata": {},
   "outputs": [],
   "source": [
    "df_slow_logs['lock_time'] = df_slow_logs['lock_time'].apply(lambda x: get_numerical_value_lock_time(x))"
   ]
  },
  {
   "cell_type": "code",
   "execution_count": 34,
   "metadata": {},
   "outputs": [
    {
     "data": {
      "text/plain": [
       "0"
      ]
     },
     "execution_count": 34,
     "metadata": {},
     "output_type": "execute_result"
    }
   ],
   "source": [
    "df_slow_logs['lock_time'].min()"
   ]
  },
  {
   "cell_type": "code",
   "execution_count": 35,
   "metadata": {},
   "outputs": [
    {
     "data": {
      "text/plain": [
       "71033"
      ]
     },
     "execution_count": 35,
     "metadata": {},
     "output_type": "execute_result"
    }
   ],
   "source": [
    "df_slow_logs['lock_time'].max()"
   ]
  },
  {
   "cell_type": "code",
   "execution_count": 36,
   "metadata": {},
   "outputs": [],
   "source": [
    "def get_numerical_value_query_time(query_time):\n",
    "    '''\n",
    "    Convert the string to a number by getting the digits after the last \":\" and removing \".\"\n",
    "    '''\n",
    "    if(len(query_time.split(\":\")) >= 3):\n",
    "        if \".\" in query_time:\n",
    "            return int(query_time.split(\":\")[2].replace(\".\",\"\"))\n",
    "        else:\n",
    "            if(lock_time == \"00:00:00\"):\n",
    "                return 0\n",
    "            else:\n",
    "                print(query_time)\n",
    "    else:\n",
    "        print(query_time)"
   ]
  },
  {
   "cell_type": "code",
   "execution_count": 37,
   "metadata": {},
   "outputs": [],
   "source": [
    "df_slow_logs['query_time'] = df_slow_logs['query_time'].apply(lambda x: get_numerical_value_query_time(x))"
   ]
  },
  {
   "cell_type": "code",
   "execution_count": 38,
   "metadata": {},
   "outputs": [
    {
     "data": {
      "text/plain": [
       "7"
      ]
     },
     "execution_count": 38,
     "metadata": {},
     "output_type": "execute_result"
    }
   ],
   "source": [
    "df_slow_logs['query_time'].min()"
   ]
  },
  {
   "cell_type": "code",
   "execution_count": 39,
   "metadata": {},
   "outputs": [
    {
     "data": {
      "text/plain": [
       "11073425"
      ]
     },
     "execution_count": 39,
     "metadata": {},
     "output_type": "execute_result"
    }
   ],
   "source": [
    "df_slow_logs['query_time'].max()"
   ]
  },
  {
   "cell_type": "markdown",
   "metadata": {},
   "source": [
    "#### see df_slow_logs after first preprocessing steps"
   ]
  },
  {
   "cell_type": "code",
   "execution_count": 40,
   "metadata": {},
   "outputs": [
    {
     "data": {
      "text/html": [
       "<div>\n",
       "<style scoped>\n",
       "    .dataframe tbody tr th:only-of-type {\n",
       "        vertical-align: middle;\n",
       "    }\n",
       "\n",
       "    .dataframe tbody tr th {\n",
       "        vertical-align: top;\n",
       "    }\n",
       "\n",
       "    .dataframe thead th {\n",
       "        text-align: right;\n",
       "    }\n",
       "</style>\n",
       "<table border=\"1\" class=\"dataframe\">\n",
       "  <thead>\n",
       "    <tr style=\"text-align: right;\">\n",
       "      <th></th>\n",
       "      <th>user_host</th>\n",
       "      <th>query_time</th>\n",
       "      <th>lock_time</th>\n",
       "      <th>rows_sent</th>\n",
       "      <th>rows_examined</th>\n",
       "      <th>db</th>\n",
       "      <th>sql_text</th>\n",
       "      <th>thread_id</th>\n",
       "    </tr>\n",
       "  </thead>\n",
       "  <tbody>\n",
       "    <tr>\n",
       "      <th>0</th>\n",
       "      <td>G-185</td>\n",
       "      <td>93</td>\n",
       "      <td>0</td>\n",
       "      <td>0</td>\n",
       "      <td>0</td>\n",
       "      <td>tpch</td>\n",
       "      <td>/* ApplicationName=DataGrip 2020.2.3 */ SET net_write_timeout=600</td>\n",
       "      <td>67</td>\n",
       "    </tr>\n",
       "    <tr>\n",
       "      <th>1</th>\n",
       "      <td>G-185</td>\n",
       "      <td>55</td>\n",
       "      <td>0</td>\n",
       "      <td>0</td>\n",
       "      <td>0</td>\n",
       "      <td>tpch</td>\n",
       "      <td>SHOW WARNINGS</td>\n",
       "      <td>67</td>\n",
       "    </tr>\n",
       "    <tr>\n",
       "      <th>2</th>\n",
       "      <td>G-185</td>\n",
       "      <td>76</td>\n",
       "      <td>0</td>\n",
       "      <td>0</td>\n",
       "      <td>0</td>\n",
       "      <td>tpch</td>\n",
       "      <td>SHOW WARNINGS</td>\n",
       "      <td>67</td>\n",
       "    </tr>\n",
       "    <tr>\n",
       "      <th>3</th>\n",
       "      <td>G-185</td>\n",
       "      <td>138</td>\n",
       "      <td>0</td>\n",
       "      <td>1</td>\n",
       "      <td>1</td>\n",
       "      <td>tpch</td>\n",
       "      <td>/* ApplicationName=DataGrip 2020.2.3 */ select database()</td>\n",
       "      <td>67</td>\n",
       "    </tr>\n",
       "    <tr>\n",
       "      <th>4</th>\n",
       "      <td>G-185</td>\n",
       "      <td>90</td>\n",
       "      <td>0</td>\n",
       "      <td>0</td>\n",
       "      <td>0</td>\n",
       "      <td>tpch</td>\n",
       "      <td>/* ApplicationName=DataGrip 2020.2.3 */ SET SQL_SELECT_LIMIT=DEFAULT</td>\n",
       "      <td>67</td>\n",
       "    </tr>\n",
       "    <tr>\n",
       "      <th>...</th>\n",
       "      <td>...</td>\n",
       "      <td>...</td>\n",
       "      <td>...</td>\n",
       "      <td>...</td>\n",
       "      <td>...</td>\n",
       "      <td>...</td>\n",
       "      <td>...</td>\n",
       "      <td>...</td>\n",
       "    </tr>\n",
       "    <tr>\n",
       "      <th>15683</th>\n",
       "      <td>R-127</td>\n",
       "      <td>74</td>\n",
       "      <td>0</td>\n",
       "      <td>1</td>\n",
       "      <td>1</td>\n",
       "      <td>NO-DB</td>\n",
       "      <td>SELECT 1</td>\n",
       "      <td>9</td>\n",
       "    </tr>\n",
       "    <tr>\n",
       "      <th>15684</th>\n",
       "      <td>R-127</td>\n",
       "      <td>147</td>\n",
       "      <td>0</td>\n",
       "      <td>1</td>\n",
       "      <td>1</td>\n",
       "      <td>NO-DB</td>\n",
       "      <td>SELECT 1</td>\n",
       "      <td>9</td>\n",
       "    </tr>\n",
       "    <tr>\n",
       "      <th>15685</th>\n",
       "      <td>G-185</td>\n",
       "      <td>91</td>\n",
       "      <td>0</td>\n",
       "      <td>1</td>\n",
       "      <td>1</td>\n",
       "      <td>tpch</td>\n",
       "      <td>SELECT @@session.transaction_isolation</td>\n",
       "      <td>14</td>\n",
       "    </tr>\n",
       "    <tr>\n",
       "      <th>15686</th>\n",
       "      <td>G-185</td>\n",
       "      <td>102</td>\n",
       "      <td>0</td>\n",
       "      <td>0</td>\n",
       "      <td>0</td>\n",
       "      <td>tpch</td>\n",
       "      <td>SHOW WARNINGS</td>\n",
       "      <td>14</td>\n",
       "    </tr>\n",
       "    <tr>\n",
       "      <th>15687</th>\n",
       "      <td>G-185</td>\n",
       "      <td>181089</td>\n",
       "      <td>83</td>\n",
       "      <td>501</td>\n",
       "      <td>62549</td>\n",
       "      <td>tpch</td>\n",
       "      <td>/* ApplicationName=DataGrip 2020.2.3 */ select * from mysql.slow_log order by start_time desc</td>\n",
       "      <td>14</td>\n",
       "    </tr>\n",
       "  </tbody>\n",
       "</table>\n",
       "<p>15688 rows × 8 columns</p>\n",
       "</div>"
      ],
      "text/plain": [
       "      user_host  query_time  lock_time  rows_sent  rows_examined     db  \\\n",
       "0         G-185          93          0          0              0   tpch   \n",
       "1         G-185          55          0          0              0   tpch   \n",
       "2         G-185          76          0          0              0   tpch   \n",
       "3         G-185         138          0          1              1   tpch   \n",
       "4         G-185          90          0          0              0   tpch   \n",
       "...         ...         ...        ...        ...            ...    ...   \n",
       "15683     R-127          74          0          1              1  NO-DB   \n",
       "15684     R-127         147          0          1              1  NO-DB   \n",
       "15685     G-185          91          0          1              1   tpch   \n",
       "15686     G-185         102          0          0              0   tpch   \n",
       "15687     G-185      181089         83        501          62549   tpch   \n",
       "\n",
       "                                                                                            sql_text  \\\n",
       "0                                  /* ApplicationName=DataGrip 2020.2.3 */ SET net_write_timeout=600   \n",
       "1                                                                                      SHOW WARNINGS   \n",
       "2                                                                                      SHOW WARNINGS   \n",
       "3                                          /* ApplicationName=DataGrip 2020.2.3 */ select database()   \n",
       "4                               /* ApplicationName=DataGrip 2020.2.3 */ SET SQL_SELECT_LIMIT=DEFAULT   \n",
       "...                                                                                              ...   \n",
       "15683                                                                                       SELECT 1   \n",
       "15684                                                                                       SELECT 1   \n",
       "15685                                                         SELECT @@session.transaction_isolation   \n",
       "15686                                                                                  SHOW WARNINGS   \n",
       "15687  /* ApplicationName=DataGrip 2020.2.3 */ select * from mysql.slow_log order by start_time desc   \n",
       "\n",
       "       thread_id  \n",
       "0             67  \n",
       "1             67  \n",
       "2             67  \n",
       "3             67  \n",
       "4             67  \n",
       "...          ...  \n",
       "15683          9  \n",
       "15684          9  \n",
       "15685         14  \n",
       "15686         14  \n",
       "15687         14  \n",
       "\n",
       "[15688 rows x 8 columns]"
      ]
     },
     "execution_count": 40,
     "metadata": {},
     "output_type": "execute_result"
    }
   ],
   "source": [
    "df_slow_logs"
   ]
  },
  {
   "cell_type": "markdown",
   "metadata": {},
   "source": [
    "# SQL QUERIES ANALYSIS"
   ]
  },
  {
   "cell_type": "code",
   "execution_count": 41,
   "metadata": {},
   "outputs": [],
   "source": [
    "df_slow_logs[\"sql_text\"] = df_slow_logs[\"sql_text\"].str.lower()\n",
    "df_slow_logs[\"sql_text\"] = df_slow_logs[\"sql_text\"].str.replace('\\n\\t',' ')\n",
    "df_slow_logs[\"sql_text\"] = df_slow_logs[\"sql_text\"].str.replace('\\n',' ')\n",
    "df_slow_logs[\"sql_text\"] = df_slow_logs[\"sql_text\"].str.replace('\\t',' ')"
   ]
  },
  {
   "cell_type": "code",
   "execution_count": 42,
   "metadata": {},
   "outputs": [],
   "source": [
    "def get_mean_param_time_slow_logs(query,param):\n",
    "    df = df_slow_logs[df_slow_logs[\"sql_text\"] == query]\n",
    "    return sum(df[param])/len(df[param])"
   ]
  },
  {
   "cell_type": "markdown",
   "metadata": {},
   "source": [
    "### group records by counting their occurrence"
   ]
  },
  {
   "cell_type": "code",
   "execution_count": 43,
   "metadata": {},
   "outputs": [],
   "source": [
    "df_slow_logs_grouped = pd.DataFrame(df_slow_logs[\"sql_text\"].value_counts())\n",
    "df_slow_logs_grouped[\"query\"] = df_slow_logs_grouped.index\n",
    "df_slow_logs_grouped[\"label_query\"] = df_slow_logs_grouped[\"query\"].str[:50]"
   ]
  },
  {
   "cell_type": "code",
   "execution_count": 44,
   "metadata": {},
   "outputs": [],
   "source": [
    "df_slow_logs_grouped[\"avg_query_time\"] = df_slow_logs_grouped[\"query\"].apply(lambda x: get_mean_param_time_slow_logs(x,\"query_time\"))\n",
    "df_slow_logs_grouped[\"avg_lock_time\"] = df_slow_logs_grouped[\"query\"].apply(lambda x: get_mean_param_time_slow_logs(x,\"lock_time\"))\n",
    "df_slow_logs_grouped[\"count_query\"] = df_slow_logs_grouped[\"sql_text\"]"
   ]
  },
  {
   "cell_type": "code",
   "execution_count": 45,
   "metadata": {},
   "outputs": [],
   "source": [
    "df_slow_logs_grouped = df_slow_logs_grouped.reset_index()"
   ]
  },
  {
   "cell_type": "code",
   "execution_count": 46,
   "metadata": {},
   "outputs": [],
   "source": [
    "del df_slow_logs_grouped['sql_text']\n",
    "del df_slow_logs_grouped['index']"
   ]
  },
  {
   "cell_type": "markdown",
   "metadata": {},
   "source": [
    "# 15 most frequent queries"
   ]
  },
  {
   "cell_type": "code",
   "execution_count": 47,
   "metadata": {},
   "outputs": [],
   "source": [
    "df_15_most_freq = df_slow_logs_grouped.sort_values(\"count_query\",ascending=False)[0:15]"
   ]
  },
  {
   "cell_type": "code",
   "execution_count": 48,
   "metadata": {},
   "outputs": [
    {
     "data": {
      "text/html": [
       "<div>\n",
       "<style scoped>\n",
       "    .dataframe tbody tr th:only-of-type {\n",
       "        vertical-align: middle;\n",
       "    }\n",
       "\n",
       "    .dataframe tbody tr th {\n",
       "        vertical-align: top;\n",
       "    }\n",
       "\n",
       "    .dataframe thead th {\n",
       "        text-align: right;\n",
       "    }\n",
       "</style>\n",
       "<table border=\"1\" class=\"dataframe\">\n",
       "  <thead>\n",
       "    <tr style=\"text-align: right;\">\n",
       "      <th></th>\n",
       "      <th>query</th>\n",
       "      <th>label_query</th>\n",
       "      <th>avg_query_time</th>\n",
       "      <th>avg_lock_time</th>\n",
       "      <th>count_query</th>\n",
       "    </tr>\n",
       "  </thead>\n",
       "  <tbody>\n",
       "    <tr>\n",
       "      <th>0</th>\n",
       "      <td>select 1</td>\n",
       "      <td>select 1</td>\n",
       "      <td>1.009647e+03</td>\n",
       "      <td>0.000000</td>\n",
       "      <td>5413</td>\n",
       "    </tr>\n",
       "    <tr>\n",
       "      <th>1</th>\n",
       "      <td>select count(*) from information_schema.tables where table_schema = 'mysql' and table_name = 'rds_heartbeat2'</td>\n",
       "      <td>select count(*) from information_schema.tables whe</td>\n",
       "      <td>1.258463e+03</td>\n",
       "      <td>621.280992</td>\n",
       "      <td>968</td>\n",
       "    </tr>\n",
       "    <tr>\n",
       "      <th>2</th>\n",
       "      <td>select value from mysql.rds_heartbeat2</td>\n",
       "      <td>select value from mysql.rds_heartbeat2</td>\n",
       "      <td>5.156937e+02</td>\n",
       "      <td>55.190476</td>\n",
       "      <td>924</td>\n",
       "    </tr>\n",
       "    <tr>\n",
       "      <th>3</th>\n",
       "      <td>select @@global.read_only</td>\n",
       "      <td>select @@global.read_only</td>\n",
       "      <td>5.850866e+02</td>\n",
       "      <td>0.000000</td>\n",
       "      <td>924</td>\n",
       "    </tr>\n",
       "    <tr>\n",
       "      <th>4</th>\n",
       "      <td>select count(*) from mysql.rds_replication_status where master_host is not null and master_port is not null group by action_timestamp,called_by_user,action,mysql_version,master_host,master_port order by action_timestamp limit 1</td>\n",
       "      <td>select count(*) from mysql.rds_replication_status</td>\n",
       "      <td>6.677061e+03</td>\n",
       "      <td>815.047619</td>\n",
       "      <td>231</td>\n",
       "    </tr>\n",
       "    <tr>\n",
       "      <th>5</th>\n",
       "      <td>select count(*) from mysql.rds_history where action = 'disable set master' group by action_timestamp,called_by_user,action,mysql_version,master_host,master_port,master_user,master_log_file ,master_log_pos,master_ssl order by action_timestamp limit 1</td>\n",
       "      <td>select count(*) from mysql.rds_history where actio</td>\n",
       "      <td>5.881264e+03</td>\n",
       "      <td>1049.649351</td>\n",
       "      <td>231</td>\n",
       "    </tr>\n",
       "    <tr>\n",
       "      <th>6</th>\n",
       "      <td>select @@session.transaction_read_only</td>\n",
       "      <td>select @@session.transaction_read_only</td>\n",
       "      <td>2.939791e+02</td>\n",
       "      <td>0.000000</td>\n",
       "      <td>191</td>\n",
       "    </tr>\n",
       "    <tr>\n",
       "      <th>7</th>\n",
       "      <td>quit</td>\n",
       "      <td>quit</td>\n",
       "      <td>1.304255e+01</td>\n",
       "      <td>0.000000</td>\n",
       "      <td>47</td>\n",
       "    </tr>\n",
       "    <tr>\n",
       "      <th>8</th>\n",
       "      <td>flush logs</td>\n",
       "      <td>flush logs</td>\n",
       "      <td>2.548261e+04</td>\n",
       "      <td>0.000000</td>\n",
       "      <td>46</td>\n",
       "    </tr>\n",
       "    <tr>\n",
       "      <th>9</th>\n",
       "      <td>show global variables like 'mysql_cipher_stats_flush_period_in_seconds'</td>\n",
       "      <td>show global variables like 'mysql_cipher_stats_flu</td>\n",
       "      <td>3.212220e+04</td>\n",
       "      <td>1505.913043</td>\n",
       "      <td>46</td>\n",
       "    </tr>\n",
       "    <tr>\n",
       "      <th>10</th>\n",
       "      <td>select name, value from mysql.rds_configuration</td>\n",
       "      <td>select name, value from mysql.rds_configuration</td>\n",
       "      <td>4.726087e+02</td>\n",
       "      <td>85.130435</td>\n",
       "      <td>46</td>\n",
       "    </tr>\n",
       "    <tr>\n",
       "      <th>12</th>\n",
       "      <td>statistics</td>\n",
       "      <td>statistics</td>\n",
       "      <td>4.624318e+02</td>\n",
       "      <td>0.000000</td>\n",
       "      <td>44</td>\n",
       "    </tr>\n",
       "    <tr>\n",
       "      <th>11</th>\n",
       "      <td>commit</td>\n",
       "      <td>commit</td>\n",
       "      <td>3.764318e+02</td>\n",
       "      <td>0.000000</td>\n",
       "      <td>44</td>\n",
       "    </tr>\n",
       "    <tr>\n",
       "      <th>13</th>\n",
       "      <td>select c_name, c_custkey, o_orderkey, o_orderdate, o_totalprice, sum(l_quantity) from customer, orders, lineitem where o_orderkey in (  select   l_orderkey  from   lineitem  group by   l_orderkey having    sum(l_quantity) &gt; 314 ) and c_custkey = o_custkey and o_orderkey = l_orderkey group by c_name, c_custkey, o_orderkey, o_orderdate, o_totalprice order by o_totalprice desc, o_orderdate</td>\n",
       "      <td>select c_name, c_custkey, o_orderkey, o_orderdate,</td>\n",
       "      <td>2.130877e+06</td>\n",
       "      <td>173.390244</td>\n",
       "      <td>41</td>\n",
       "    </tr>\n",
       "    <tr>\n",
       "      <th>14</th>\n",
       "      <td>select c_name, c_custkey, o_orderkey, o_orderdate, o_totalprice, l_quantity from customer, orders, lineitem where o_orderkey in (  select   l_orderkey  from   lineitem  group by   l_orderkey having    sum(l_quantity) &gt; 314 ) and c_custkey = o_custkey and o_orderkey = l_orderkey</td>\n",
       "      <td>select c_name, c_custkey, o_orderkey, o_orderdate,</td>\n",
       "      <td>2.131974e+06</td>\n",
       "      <td>157.097561</td>\n",
       "      <td>41</td>\n",
       "    </tr>\n",
       "  </tbody>\n",
       "</table>\n",
       "</div>"
      ],
      "text/plain": [
       "                                                                                                                                                                                                                                                                                                                                                                                                    query  \\\n",
       "0                                                                                                                                                                                                                                                                                                                                                                                                select 1   \n",
       "1                                                                                                                                                                                                                                                                                           select count(*) from information_schema.tables where table_schema = 'mysql' and table_name = 'rds_heartbeat2'   \n",
       "2                                                                                                                                                                                                                                                                                                                                                                  select value from mysql.rds_heartbeat2   \n",
       "3                                                                                                                                                                                                                                                                                                                                                                               select @@global.read_only   \n",
       "4                                                                                                                                                                     select count(*) from mysql.rds_replication_status where master_host is not null and master_port is not null group by action_timestamp,called_by_user,action,mysql_version,master_host,master_port order by action_timestamp limit 1   \n",
       "5                                                                                                                                               select count(*) from mysql.rds_history where action = 'disable set master' group by action_timestamp,called_by_user,action,mysql_version,master_host,master_port,master_user,master_log_file ,master_log_pos,master_ssl order by action_timestamp limit 1   \n",
       "6                                                                                                                                                                                                                                                                                                                                                                  select @@session.transaction_read_only   \n",
       "7                                                                                                                                                                                                                                                                                                                                                                                                    quit   \n",
       "8                                                                                                                                                                                                                                                                                                                                                                                              flush logs   \n",
       "9                                                                                                                                                                                                                                                                                                                                 show global variables like 'mysql_cipher_stats_flush_period_in_seconds'   \n",
       "10                                                                                                                                                                                                                                                                                                                                                        select name, value from mysql.rds_configuration   \n",
       "12                                                                                                                                                                                                                                                                                                                                                                                             statistics   \n",
       "11                                                                                                                                                                                                                                                                                                                                                                                                 commit   \n",
       "13  select c_name, c_custkey, o_orderkey, o_orderdate, o_totalprice, sum(l_quantity) from customer, orders, lineitem where o_orderkey in (  select   l_orderkey  from   lineitem  group by   l_orderkey having    sum(l_quantity) > 314 ) and c_custkey = o_custkey and o_orderkey = l_orderkey group by c_name, c_custkey, o_orderkey, o_orderdate, o_totalprice order by o_totalprice desc, o_orderdate   \n",
       "14                                                                                                                 select c_name, c_custkey, o_orderkey, o_orderdate, o_totalprice, l_quantity from customer, orders, lineitem where o_orderkey in (  select   l_orderkey  from   lineitem  group by   l_orderkey having    sum(l_quantity) > 314 ) and c_custkey = o_custkey and o_orderkey = l_orderkey   \n",
       "\n",
       "                                           label_query  avg_query_time  \\\n",
       "0                                             select 1    1.009647e+03   \n",
       "1   select count(*) from information_schema.tables whe    1.258463e+03   \n",
       "2               select value from mysql.rds_heartbeat2    5.156937e+02   \n",
       "3                            select @@global.read_only    5.850866e+02   \n",
       "4   select count(*) from mysql.rds_replication_status     6.677061e+03   \n",
       "5   select count(*) from mysql.rds_history where actio    5.881264e+03   \n",
       "6               select @@session.transaction_read_only    2.939791e+02   \n",
       "7                                                 quit    1.304255e+01   \n",
       "8                                           flush logs    2.548261e+04   \n",
       "9   show global variables like 'mysql_cipher_stats_flu    3.212220e+04   \n",
       "10     select name, value from mysql.rds_configuration    4.726087e+02   \n",
       "12                                          statistics    4.624318e+02   \n",
       "11                                              commit    3.764318e+02   \n",
       "13  select c_name, c_custkey, o_orderkey, o_orderdate,    2.130877e+06   \n",
       "14  select c_name, c_custkey, o_orderkey, o_orderdate,    2.131974e+06   \n",
       "\n",
       "    avg_lock_time  count_query  \n",
       "0        0.000000         5413  \n",
       "1      621.280992          968  \n",
       "2       55.190476          924  \n",
       "3        0.000000          924  \n",
       "4      815.047619          231  \n",
       "5     1049.649351          231  \n",
       "6        0.000000          191  \n",
       "7        0.000000           47  \n",
       "8        0.000000           46  \n",
       "9     1505.913043           46  \n",
       "10      85.130435           46  \n",
       "12       0.000000           44  \n",
       "11       0.000000           44  \n",
       "13     173.390244           41  \n",
       "14     157.097561           41  "
      ]
     },
     "execution_count": 48,
     "metadata": {},
     "output_type": "execute_result"
    }
   ],
   "source": [
    "df_15_most_freq"
   ]
  },
  {
   "cell_type": "code",
   "execution_count": 49,
   "metadata": {},
   "outputs": [
    {
     "data": {
      "text/plain": [
       "Text(0, 0.5, 'Average execution time')"
      ]
     },
     "execution_count": 49,
     "metadata": {},
     "output_type": "execute_result"
    },
    {
     "data": {
      "image/png": "[encoded data removed]",
      "text/plain": [
       "<Figure size 864x864 with 2 Axes>"
      ]
     },
     "metadata": {
      "needs_background": "light"
     },
     "output_type": "display_data"
    }
   ],
   "source": [
    "df = df_15_most_freq.set_index('label_query')\n",
    "\n",
    "fig = plt.figure(figsize=(12,12)) # Create matplotlib figure\n",
    "\n",
    "ax = fig.add_subplot(111) # Create matplotlib axes\n",
    "ax2 = ax.twinx() # Create another axes that shares the same x-axis as a\n",
    "width = .3\n",
    "\n",
    "df.count_query.plot(kind='bar',color='green',ax=ax,width=width, position=0)\n",
    "df.avg_query_time.plot(kind='bar',color='blue', ax=ax2,width = width,position=1)\n",
    "\n",
    "ax.grid(None, axis='x')\n",
    "ax2.grid(None)\n",
    "\n",
    "ax.set_ylabel('Number of queries')\n",
    "ax2.set_ylabel('Average execution time')"
   ]
  },
  {
   "cell_type": "markdown",
   "metadata": {},
   "source": [
    "### Plot comment: we can see in green the 15 most frequent queries and in blue their average execution time. We can already see how the most frequent queries, at least the ones among the top 10, have a much faster execution time compared with the more complex ones"
   ]
  },
  {
   "cell_type": "markdown",
   "metadata": {},
   "source": [
    "# Distribution of execution time"
   ]
  },
  {
   "cell_type": "code",
   "execution_count": 50,
   "metadata": {},
   "outputs": [
    {
     "data": {
      "text/plain": [
       "array([[<matplotlib.axes._subplots.AxesSubplot object at 0x7fcad4958be0>]],\n",
       "      dtype=object)"
      ]
     },
     "execution_count": 50,
     "metadata": {},
     "output_type": "execute_result"
    },
    {
     "data": {
      "image/png": "[encoded data removed]",
      "text/plain": [
       "<Figure size 432x288 with 1 Axes>"
      ]
     },
     "metadata": {
      "needs_background": "light"
     },
     "output_type": "display_data"
    }
   ],
   "source": [
    "df_slow_logs.hist('query_time')"
   ]
  },
  {
   "cell_type": "code",
   "execution_count": 51,
   "metadata": {},
   "outputs": [
    {
     "data": {
      "text/plain": [
       "array([[<matplotlib.axes._subplots.AxesSubplot object at 0x7fcad48dde50>]],\n",
       "      dtype=object)"
      ]
     },
     "execution_count": 51,
     "metadata": {},
     "output_type": "execute_result"
    },
    {
     "data": {
      "image/png": "[encoded data removed]",
      "text/plain": [
       "<Figure size 432x288 with 1 Axes>"
      ]
     },
     "metadata": {
      "needs_background": "light"
     },
     "output_type": "display_data"
    }
   ],
   "source": [
    "df_slow_logs_grouped.hist('avg_query_time')"
   ]
  },
  {
   "cell_type": "markdown",
   "metadata": {},
   "source": [
    "## considering that \"SELECT 1\" is almost 1/3 of the queries and its impact in the speed it's not so relevat we may consider filtering those values"
   ]
  },
  {
   "cell_type": "code",
   "execution_count": 52,
   "metadata": {},
   "outputs": [
    {
     "data": {
      "text/plain": [
       "array([[<matplotlib.axes._subplots.AxesSubplot object at 0x7fcad48a5be0>]],\n",
       "      dtype=object)"
      ]
     },
     "execution_count": 52,
     "metadata": {},
     "output_type": "execute_result"
    },
    {
     "data": {
      "image/png": "[encoded data removed]",
      "text/plain": [
       "<Figure size 432x288 with 1 Axes>"
      ]
     },
     "metadata": {
      "needs_background": "light"
     },
     "output_type": "display_data"
    }
   ],
   "source": [
    "df_slow_logs[df_slow_logs['sql_text'] != 'select 1'].hist('query_time')"
   ]
  },
  {
   "cell_type": "code",
   "execution_count": 53,
   "metadata": {},
   "outputs": [
    {
     "data": {
      "text/plain": [
       "array([[<matplotlib.axes._subplots.AxesSubplot object at 0x7fcad486ca30>]],\n",
       "      dtype=object)"
      ]
     },
     "execution_count": 53,
     "metadata": {},
     "output_type": "execute_result"
    },
    {
     "data": {
      "image/png": "[encoded data removed]",
      "text/plain": [
       "<Figure size 432x288 with 1 Axes>"
      ]
     },
     "metadata": {
      "needs_background": "light"
     },
     "output_type": "display_data"
    }
   ],
   "source": [
    "df_slow_logs[df_slow_logs['query_time'] > 1000000].hist('query_time')"
   ]
  },
  {
   "cell_type": "markdown",
   "metadata": {},
   "source": [
    "### we can see how the majority of the slow queries are in the range between 0.1e7 and 0.4e7, while there is a small group which has a much slower execution time"
   ]
  },
  {
   "cell_type": "code",
   "execution_count": 54,
   "metadata": {},
   "outputs": [
    {
     "data": {
      "text/html": [
       "<div>\n",
       "<style scoped>\n",
       "    .dataframe tbody tr th:only-of-type {\n",
       "        vertical-align: middle;\n",
       "    }\n",
       "\n",
       "    .dataframe tbody tr th {\n",
       "        vertical-align: top;\n",
       "    }\n",
       "\n",
       "    .dataframe thead th {\n",
       "        text-align: right;\n",
       "    }\n",
       "</style>\n",
       "<table border=\"1\" class=\"dataframe\">\n",
       "  <thead>\n",
       "    <tr style=\"text-align: right;\">\n",
       "      <th></th>\n",
       "      <th>user_host</th>\n",
       "      <th>query_time</th>\n",
       "      <th>lock_time</th>\n",
       "      <th>rows_sent</th>\n",
       "      <th>rows_examined</th>\n",
       "      <th>db</th>\n",
       "      <th>sql_text</th>\n",
       "      <th>thread_id</th>\n",
       "    </tr>\n",
       "  </thead>\n",
       "  <tbody>\n",
       "    <tr>\n",
       "      <th>515</th>\n",
       "      <td>G-185</td>\n",
       "      <td>11073425</td>\n",
       "      <td>98</td>\n",
       "      <td>77212</td>\n",
       "      <td>154424</td>\n",
       "      <td>tpch</td>\n",
       "      <td>/* applicationname=datagrip 2020.2.3 */ select * from mysql.slow_log order by start_time desc</td>\n",
       "      <td>63</td>\n",
       "    </tr>\n",
       "    <tr>\n",
       "      <th>2002</th>\n",
       "      <td>G-172</td>\n",
       "      <td>9513722</td>\n",
       "      <td>145</td>\n",
       "      <td>4</td>\n",
       "      <td>4423667</td>\n",
       "      <td>tpch</td>\n",
       "      <td>-- using 1164972402 as a seed to the rng   select l_returnflag, l_linestatus, sum(l_quantity) as sum_qty, sum(l_extendedprice) as sum_base_price, sum(l_extendedprice * (1 - l_discount)) as sum_disc_price, sum(l_extendedprice * (1 - l_discount) * (1 + l_tax)) as sum_charge, avg(l_quantity) as avg_qty, avg(l_extendedprice) as avg_price, avg(l_discount) as avg_disc, count(*) as count_order from lineitem where l_shipdate &lt;= date '1998-12-01' - interval '60' day group by l_returnflag, l_linestatus order by l_returnflag, l_linestatus</td>\n",
       "      <td>40</td>\n",
       "    </tr>\n",
       "    <tr>\n",
       "      <th>2038</th>\n",
       "      <td>G-172</td>\n",
       "      <td>9528016</td>\n",
       "      <td>157</td>\n",
       "      <td>4</td>\n",
       "      <td>4423667</td>\n",
       "      <td>tpch</td>\n",
       "      <td>-- using 377385426 as a seed to the rng   select l_returnflag, l_linestatus, sum(l_quantity) as sum_qty, sum(l_extendedprice) as sum_base_price, sum(l_extendedprice * (1 - l_discount)) as sum_disc_price, sum(l_extendedprice * (1 - l_discount) * (1 + l_tax)) as sum_charge, avg(l_quantity) as avg_qty, avg(l_extendedprice) as avg_price, avg(l_discount) as avg_disc, count(*) as count_order from lineitem where l_shipdate &lt;= date '1998-12-01' - interval '73' day group by l_returnflag, l_linestatus order by l_returnflag, l_linestatus</td>\n",
       "      <td>40</td>\n",
       "    </tr>\n",
       "    <tr>\n",
       "      <th>2077</th>\n",
       "      <td>G-172</td>\n",
       "      <td>9365976</td>\n",
       "      <td>158</td>\n",
       "      <td>4</td>\n",
       "      <td>4423667</td>\n",
       "      <td>tpch</td>\n",
       "      <td>-- using 73836279 as a seed to the rng   select l_returnflag, l_linestatus, sum(l_quantity) as sum_qty, sum(l_extendedprice) as sum_base_price, sum(l_extendedprice * (1 - l_discount)) as sum_disc_price, sum(l_extendedprice * (1 - l_discount) * (1 + l_tax)) as sum_charge, avg(l_quantity) as avg_qty, avg(l_extendedprice) as avg_price, avg(l_discount) as avg_disc, count(*) as count_order from lineitem where l_shipdate &lt;= date '1998-12-01' - interval '110' day group by l_returnflag, l_linestatus order by l_returnflag, l_linestatus</td>\n",
       "      <td>40</td>\n",
       "    </tr>\n",
       "    <tr>\n",
       "      <th>2096</th>\n",
       "      <td>G-172</td>\n",
       "      <td>9537546</td>\n",
       "      <td>154</td>\n",
       "      <td>4</td>\n",
       "      <td>4423667</td>\n",
       "      <td>tpch</td>\n",
       "      <td>-- using 820403100 as a seed to the rng   select l_returnflag, l_linestatus, sum(l_quantity) as sum_qty, sum(l_extendedprice) as sum_base_price, sum(l_extendedprice * (1 - l_discount)) as sum_disc_price, sum(l_extendedprice * (1 - l_discount) * (1 + l_tax)) as sum_charge, avg(l_quantity) as avg_qty, avg(l_extendedprice) as avg_price, avg(l_discount) as avg_disc, count(*) as count_order from lineitem where l_shipdate &lt;= date '1998-12-01' - interval '69' day group by l_returnflag, l_linestatus order by l_returnflag, l_linestatus</td>\n",
       "      <td>40</td>\n",
       "    </tr>\n",
       "    <tr>\n",
       "      <th>...</th>\n",
       "      <td>...</td>\n",
       "      <td>...</td>\n",
       "      <td>...</td>\n",
       "      <td>...</td>\n",
       "      <td>...</td>\n",
       "      <td>...</td>\n",
       "      <td>...</td>\n",
       "      <td>...</td>\n",
       "    </tr>\n",
       "    <tr>\n",
       "      <th>8228</th>\n",
       "      <td>G-172</td>\n",
       "      <td>9318512</td>\n",
       "      <td>173</td>\n",
       "      <td>4</td>\n",
       "      <td>4423667</td>\n",
       "      <td>tpch</td>\n",
       "      <td>-- using 443017674 as a seed to the rng   select l_returnflag, l_linestatus, sum(l_quantity) as sum_qty, sum(l_extendedprice) as sum_base_price, sum(l_extendedprice * (1 - l_discount)) as sum_disc_price, sum(l_extendedprice * (1 - l_discount) * (1 + l_tax)) as sum_charge, avg(l_quantity) as avg_qty, avg(l_extendedprice) as avg_price, avg(l_discount) as avg_disc, count(*) as count_order from lineitem where l_shipdate &lt;= date '1998-12-01' - interval '117' day group by l_returnflag, l_linestatus order by l_returnflag, l_linestatus</td>\n",
       "      <td>40</td>\n",
       "    </tr>\n",
       "    <tr>\n",
       "      <th>8265</th>\n",
       "      <td>G-172</td>\n",
       "      <td>9527047</td>\n",
       "      <td>147</td>\n",
       "      <td>4</td>\n",
       "      <td>4423667</td>\n",
       "      <td>tpch</td>\n",
       "      <td>-- using 196896744 as a seed to the rng   select l_returnflag, l_linestatus, sum(l_quantity) as sum_qty, sum(l_extendedprice) as sum_base_price, sum(l_extendedprice * (1 - l_discount)) as sum_disc_price, sum(l_extendedprice * (1 - l_discount) * (1 + l_tax)) as sum_charge, avg(l_quantity) as avg_qty, avg(l_extendedprice) as avg_price, avg(l_discount) as avg_disc, count(*) as count_order from lineitem where l_shipdate &lt;= date '1998-12-01' - interval '72' day group by l_returnflag, l_linestatus order by l_returnflag, l_linestatus</td>\n",
       "      <td>40</td>\n",
       "    </tr>\n",
       "    <tr>\n",
       "      <th>8299</th>\n",
       "      <td>G-172</td>\n",
       "      <td>9421284</td>\n",
       "      <td>152</td>\n",
       "      <td>4</td>\n",
       "      <td>4423667</td>\n",
       "      <td>tpch</td>\n",
       "      <td>-- using 344569302 as a seed to the rng   select l_returnflag, l_linestatus, sum(l_quantity) as sum_qty, sum(l_extendedprice) as sum_base_price, sum(l_extendedprice * (1 - l_discount)) as sum_disc_price, sum(l_extendedprice * (1 - l_discount) * (1 + l_tax)) as sum_charge, avg(l_quantity) as avg_qty, avg(l_extendedprice) as avg_price, avg(l_discount) as avg_disc, count(*) as count_order from lineitem where l_shipdate &lt;= date '1998-12-01' - interval '111' day group by l_returnflag, l_linestatus order by l_returnflag, l_linestatus</td>\n",
       "      <td>40</td>\n",
       "    </tr>\n",
       "    <tr>\n",
       "      <th>8390</th>\n",
       "      <td>G-172</td>\n",
       "      <td>9432818</td>\n",
       "      <td>153</td>\n",
       "      <td>4</td>\n",
       "      <td>4423667</td>\n",
       "      <td>tpch</td>\n",
       "      <td>-- using 1058319999 as a seed to the rng   select l_returnflag, l_linestatus, sum(l_quantity) as sum_qty, sum(l_extendedprice) as sum_base_price, sum(l_extendedprice * (1 - l_discount)) as sum_disc_price, sum(l_extendedprice * (1 - l_discount) * (1 + l_tax)) as sum_charge, avg(l_quantity) as avg_qty, avg(l_extendedprice) as avg_price, avg(l_discount) as avg_disc, count(*) as count_order from lineitem where l_shipdate &lt;= date '1998-12-01' - interval '109' day group by l_returnflag, l_linestatus order by l_returnflag, l_linestatus</td>\n",
       "      <td>40</td>\n",
       "    </tr>\n",
       "    <tr>\n",
       "      <th>8420</th>\n",
       "      <td>G-172</td>\n",
       "      <td>9506975</td>\n",
       "      <td>195</td>\n",
       "      <td>4</td>\n",
       "      <td>4423667</td>\n",
       "      <td>tpch</td>\n",
       "      <td>-- using 1214196588 as a seed to the rng   select l_returnflag, l_linestatus, sum(l_quantity) as sum_qty, sum(l_extendedprice) as sum_base_price, sum(l_extendedprice * (1 - l_discount)) as sum_disc_price, sum(l_extendedprice * (1 - l_discount) * (1 + l_tax)) as sum_charge, avg(l_quantity) as avg_qty, avg(l_extendedprice) as avg_price, avg(l_discount) as avg_disc, count(*) as count_order from lineitem where l_shipdate &lt;= date '1998-12-01' - interval '93' day group by l_returnflag, l_linestatus order by l_returnflag, l_linestatus</td>\n",
       "      <td>40</td>\n",
       "    </tr>\n",
       "  </tbody>\n",
       "</table>\n",
       "<p>151 rows × 8 columns</p>\n",
       "</div>"
      ],
      "text/plain": [
       "     user_host  query_time  lock_time  rows_sent  rows_examined    db  \\\n",
       "515      G-185    11073425         98      77212         154424  tpch   \n",
       "2002     G-172     9513722        145          4        4423667  tpch   \n",
       "2038     G-172     9528016        157          4        4423667  tpch   \n",
       "2077     G-172     9365976        158          4        4423667  tpch   \n",
       "2096     G-172     9537546        154          4        4423667  tpch   \n",
       "...        ...         ...        ...        ...            ...   ...   \n",
       "8228     G-172     9318512        173          4        4423667  tpch   \n",
       "8265     G-172     9527047        147          4        4423667  tpch   \n",
       "8299     G-172     9421284        152          4        4423667  tpch   \n",
       "8390     G-172     9432818        153          4        4423667  tpch   \n",
       "8420     G-172     9506975        195          4        4423667  tpch   \n",
       "\n",
       "                                                                                                                                                                                                                                                                                                                                                                                                                                                                                                                                                    sql_text  \\\n",
       "515                                                                                                                                                                                                                                                                                                                                                                                                                                                            /* applicationname=datagrip 2020.2.3 */ select * from mysql.slow_log order by start_time desc   \n",
       "2002   -- using 1164972402 as a seed to the rng   select l_returnflag, l_linestatus, sum(l_quantity) as sum_qty, sum(l_extendedprice) as sum_base_price, sum(l_extendedprice * (1 - l_discount)) as sum_disc_price, sum(l_extendedprice * (1 - l_discount) * (1 + l_tax)) as sum_charge, avg(l_quantity) as avg_qty, avg(l_extendedprice) as avg_price, avg(l_discount) as avg_disc, count(*) as count_order from lineitem where l_shipdate <= date '1998-12-01' - interval '60' day group by l_returnflag, l_linestatus order by l_returnflag, l_linestatus   \n",
       "2038    -- using 377385426 as a seed to the rng   select l_returnflag, l_linestatus, sum(l_quantity) as sum_qty, sum(l_extendedprice) as sum_base_price, sum(l_extendedprice * (1 - l_discount)) as sum_disc_price, sum(l_extendedprice * (1 - l_discount) * (1 + l_tax)) as sum_charge, avg(l_quantity) as avg_qty, avg(l_extendedprice) as avg_price, avg(l_discount) as avg_disc, count(*) as count_order from lineitem where l_shipdate <= date '1998-12-01' - interval '73' day group by l_returnflag, l_linestatus order by l_returnflag, l_linestatus   \n",
       "2077    -- using 73836279 as a seed to the rng   select l_returnflag, l_linestatus, sum(l_quantity) as sum_qty, sum(l_extendedprice) as sum_base_price, sum(l_extendedprice * (1 - l_discount)) as sum_disc_price, sum(l_extendedprice * (1 - l_discount) * (1 + l_tax)) as sum_charge, avg(l_quantity) as avg_qty, avg(l_extendedprice) as avg_price, avg(l_discount) as avg_disc, count(*) as count_order from lineitem where l_shipdate <= date '1998-12-01' - interval '110' day group by l_returnflag, l_linestatus order by l_returnflag, l_linestatus   \n",
       "2096    -- using 820403100 as a seed to the rng   select l_returnflag, l_linestatus, sum(l_quantity) as sum_qty, sum(l_extendedprice) as sum_base_price, sum(l_extendedprice * (1 - l_discount)) as sum_disc_price, sum(l_extendedprice * (1 - l_discount) * (1 + l_tax)) as sum_charge, avg(l_quantity) as avg_qty, avg(l_extendedprice) as avg_price, avg(l_discount) as avg_disc, count(*) as count_order from lineitem where l_shipdate <= date '1998-12-01' - interval '69' day group by l_returnflag, l_linestatus order by l_returnflag, l_linestatus   \n",
       "...                                                                                                                                                                                                                                                                                                                                                                                                                                                                                                                                                      ...   \n",
       "8228   -- using 443017674 as a seed to the rng   select l_returnflag, l_linestatus, sum(l_quantity) as sum_qty, sum(l_extendedprice) as sum_base_price, sum(l_extendedprice * (1 - l_discount)) as sum_disc_price, sum(l_extendedprice * (1 - l_discount) * (1 + l_tax)) as sum_charge, avg(l_quantity) as avg_qty, avg(l_extendedprice) as avg_price, avg(l_discount) as avg_disc, count(*) as count_order from lineitem where l_shipdate <= date '1998-12-01' - interval '117' day group by l_returnflag, l_linestatus order by l_returnflag, l_linestatus   \n",
       "8265    -- using 196896744 as a seed to the rng   select l_returnflag, l_linestatus, sum(l_quantity) as sum_qty, sum(l_extendedprice) as sum_base_price, sum(l_extendedprice * (1 - l_discount)) as sum_disc_price, sum(l_extendedprice * (1 - l_discount) * (1 + l_tax)) as sum_charge, avg(l_quantity) as avg_qty, avg(l_extendedprice) as avg_price, avg(l_discount) as avg_disc, count(*) as count_order from lineitem where l_shipdate <= date '1998-12-01' - interval '72' day group by l_returnflag, l_linestatus order by l_returnflag, l_linestatus   \n",
       "8299   -- using 344569302 as a seed to the rng   select l_returnflag, l_linestatus, sum(l_quantity) as sum_qty, sum(l_extendedprice) as sum_base_price, sum(l_extendedprice * (1 - l_discount)) as sum_disc_price, sum(l_extendedprice * (1 - l_discount) * (1 + l_tax)) as sum_charge, avg(l_quantity) as avg_qty, avg(l_extendedprice) as avg_price, avg(l_discount) as avg_disc, count(*) as count_order from lineitem where l_shipdate <= date '1998-12-01' - interval '111' day group by l_returnflag, l_linestatus order by l_returnflag, l_linestatus   \n",
       "8390  -- using 1058319999 as a seed to the rng   select l_returnflag, l_linestatus, sum(l_quantity) as sum_qty, sum(l_extendedprice) as sum_base_price, sum(l_extendedprice * (1 - l_discount)) as sum_disc_price, sum(l_extendedprice * (1 - l_discount) * (1 + l_tax)) as sum_charge, avg(l_quantity) as avg_qty, avg(l_extendedprice) as avg_price, avg(l_discount) as avg_disc, count(*) as count_order from lineitem where l_shipdate <= date '1998-12-01' - interval '109' day group by l_returnflag, l_linestatus order by l_returnflag, l_linestatus   \n",
       "8420   -- using 1214196588 as a seed to the rng   select l_returnflag, l_linestatus, sum(l_quantity) as sum_qty, sum(l_extendedprice) as sum_base_price, sum(l_extendedprice * (1 - l_discount)) as sum_disc_price, sum(l_extendedprice * (1 - l_discount) * (1 + l_tax)) as sum_charge, avg(l_quantity) as avg_qty, avg(l_extendedprice) as avg_price, avg(l_discount) as avg_disc, count(*) as count_order from lineitem where l_shipdate <= date '1998-12-01' - interval '93' day group by l_returnflag, l_linestatus order by l_returnflag, l_linestatus   \n",
       "\n",
       "      thread_id  \n",
       "515          63  \n",
       "2002         40  \n",
       "2038         40  \n",
       "2077         40  \n",
       "2096         40  \n",
       "...         ...  \n",
       "8228         40  \n",
       "8265         40  \n",
       "8299         40  \n",
       "8390         40  \n",
       "8420         40  \n",
       "\n",
       "[151 rows x 8 columns]"
      ]
     },
     "execution_count": 54,
     "metadata": {},
     "output_type": "execute_result"
    }
   ],
   "source": [
    "df_slow_logs[df_slow_logs['query_time'] > 5000000]"
   ]
  },
  {
   "cell_type": "markdown",
   "metadata": {},
   "source": [
    "# they all seem involving table lineitem"
   ]
  },
  {
   "cell_type": "markdown",
   "metadata": {},
   "source": [
    "# We are going to consider now the type of operation made in SQL and see how are they distributed according to sql execution time"
   ]
  },
  {
   "cell_type": "code",
   "execution_count": 55,
   "metadata": {},
   "outputs": [],
   "source": [
    "#remove duplicates and keep the worse case in execution time\n",
    "df_slow_logs_filtered = df_slow_logs.groupby('sql_text', group_keys=False).apply(lambda x: x.loc[x.query_time.idxmax()])"
   ]
  },
  {
   "cell_type": "code",
   "execution_count": 56,
   "metadata": {},
   "outputs": [],
   "source": [
    "del df_slow_logs_filtered['sql_text']\n",
    "df_slow_logs_filtered = df_slow_logs_filtered.reset_index()"
   ]
  },
  {
   "cell_type": "code",
   "execution_count": 57,
   "metadata": {},
   "outputs": [],
   "source": [
    "sql_operations = ['select', 'insert', 'update', 'where', 'join', 'order', 'group', 'union', 'count', 'avg', 'sum', 'show', 'set', 'ping', 'quit', 'purge', 'flush', 'statistics', 'commit', 'use']"
   ]
  },
  {
   "cell_type": "code",
   "execution_count": 58,
   "metadata": {},
   "outputs": [],
   "source": [
    "def set_no_op(x):\n",
    "    has_op = True\n",
    "    for o in sql_operations:\n",
    "        if(x[o] > 0):\n",
    "            has_op = False\n",
    "    return has_op"
   ]
  },
  {
   "cell_type": "code",
   "execution_count": 59,
   "metadata": {},
   "outputs": [],
   "source": [
    "df_slow_logs_filtered['no-op'] = True\n",
    "for op in sql_operations:\n",
    "    df_slow_logs_filtered[op] = df_slow_logs_filtered['sql_text'].apply(lambda x: x.count(op))\n",
    "    \n",
    "df_slow_logs_filtered['no-op'] = df_slow_logs_filtered.apply(lambda x: set_no_op(x), axis=1)"
   ]
  },
  {
   "cell_type": "code",
   "execution_count": 60,
   "metadata": {},
   "outputs": [
    {
     "data": {
      "text/html": [
       "<div>\n",
       "<style scoped>\n",
       "    .dataframe tbody tr th:only-of-type {\n",
       "        vertical-align: middle;\n",
       "    }\n",
       "\n",
       "    .dataframe tbody tr th {\n",
       "        vertical-align: top;\n",
       "    }\n",
       "\n",
       "    .dataframe thead th {\n",
       "        text-align: right;\n",
       "    }\n",
       "</style>\n",
       "<table border=\"1\" class=\"dataframe\">\n",
       "  <thead>\n",
       "    <tr style=\"text-align: right;\">\n",
       "      <th></th>\n",
       "      <th>sql_text</th>\n",
       "      <th>user_host</th>\n",
       "      <th>query_time</th>\n",
       "      <th>lock_time</th>\n",
       "      <th>rows_sent</th>\n",
       "      <th>rows_examined</th>\n",
       "      <th>db</th>\n",
       "      <th>thread_id</th>\n",
       "      <th>no-op</th>\n",
       "      <th>select</th>\n",
       "      <th>...</th>\n",
       "      <th>sum</th>\n",
       "      <th>show</th>\n",
       "      <th>set</th>\n",
       "      <th>ping</th>\n",
       "      <th>quit</th>\n",
       "      <th>purge</th>\n",
       "      <th>flush</th>\n",
       "      <th>statistics</th>\n",
       "      <th>commit</th>\n",
       "      <th>use</th>\n",
       "    </tr>\n",
       "  </thead>\n",
       "  <tbody>\n",
       "  </tbody>\n",
       "</table>\n",
       "<p>0 rows × 29 columns</p>\n",
       "</div>"
      ],
      "text/plain": [
       "Empty DataFrame\n",
       "Columns: [sql_text, user_host, query_time, lock_time, rows_sent, rows_examined, db, thread_id, no-op, select, insert, update, where, join, order, group, union, count, avg, sum, show, set, ping, quit, purge, flush, statistics, commit, use]\n",
       "Index: []\n",
       "\n",
       "[0 rows x 29 columns]"
      ]
     },
     "execution_count": 60,
     "metadata": {},
     "output_type": "execute_result"
    }
   ],
   "source": [
    "df_slow_logs_filtered[df_slow_logs_filtered['no-op'] == True]"
   ]
  },
  {
   "cell_type": "markdown",
   "metadata": {},
   "source": [
    "### Sql keywords count"
   ]
  },
  {
   "cell_type": "code",
   "execution_count": 61,
   "metadata": {},
   "outputs": [
    {
     "data": {
      "text/plain": [
       "<matplotlib.axes._subplots.AxesSubplot at 0x7fcad4828610>"
      ]
     },
     "execution_count": 61,
     "metadata": {},
     "output_type": "execute_result"
    },
    {
     "data": {
      "image/png": "[encoded data removed]",
      "text/plain": [
       "<Figure size 720x720 with 1 Axes>"
      ]
     },
     "metadata": {
      "needs_background": "light"
     },
     "output_type": "display_data"
    }
   ],
   "source": [
    "fig = plt.figure(figsize=(10,10))\n",
    "df_slow_logs_filtered[sql_operations].sum().plot.bar()"
   ]
  },
  {
   "cell_type": "code",
   "execution_count": 62,
   "metadata": {},
   "outputs": [],
   "source": [
    "df_slow_logs_op_execution = pd.DataFrame(columns=['sql_keyword','query_time'])"
   ]
  },
  {
   "cell_type": "code",
   "execution_count": 63,
   "metadata": {},
   "outputs": [],
   "source": [
    "for op in sql_operations:\n",
    "    df = df_slow_logs_filtered[df_slow_logs_filtered[op] > 0]\n",
    "    df_slow_logs_op_execution = df_slow_logs_op_execution.append(\n",
    "                                pd.DataFrame(list(zip([op for i in range(0,len(df))],list(df['query_time']))),\n",
    "                                columns =['sql_keyword','query_time']))"
   ]
  },
  {
   "cell_type": "code",
   "execution_count": 64,
   "metadata": {},
   "outputs": [],
   "source": [
    "df_slow_logs_op_execution = df_slow_logs_op_execution.reset_index()"
   ]
  },
  {
   "cell_type": "code",
   "execution_count": 65,
   "metadata": {},
   "outputs": [],
   "source": [
    "del df_slow_logs_op_execution['index']"
   ]
  },
  {
   "cell_type": "code",
   "execution_count": 66,
   "metadata": {},
   "outputs": [
    {
     "data": {
      "text/html": [
       "<div>\n",
       "<style scoped>\n",
       "    .dataframe tbody tr th:only-of-type {\n",
       "        vertical-align: middle;\n",
       "    }\n",
       "\n",
       "    .dataframe tbody tr th {\n",
       "        vertical-align: top;\n",
       "    }\n",
       "\n",
       "    .dataframe thead th {\n",
       "        text-align: right;\n",
       "    }\n",
       "</style>\n",
       "<table border=\"1\" class=\"dataframe\">\n",
       "  <thead>\n",
       "    <tr style=\"text-align: right;\">\n",
       "      <th></th>\n",
       "      <th>sql_keyword</th>\n",
       "      <th>query_time</th>\n",
       "    </tr>\n",
       "  </thead>\n",
       "  <tbody>\n",
       "    <tr>\n",
       "      <th>0</th>\n",
       "      <td>select</td>\n",
       "      <td>3030934</td>\n",
       "    </tr>\n",
       "    <tr>\n",
       "      <th>1</th>\n",
       "      <td>select</td>\n",
       "      <td>9413563</td>\n",
       "    </tr>\n",
       "    <tr>\n",
       "      <th>2</th>\n",
       "      <td>select</td>\n",
       "      <td>3009603</td>\n",
       "    </tr>\n",
       "    <tr>\n",
       "      <th>3</th>\n",
       "      <td>select</td>\n",
       "      <td>9333081</td>\n",
       "    </tr>\n",
       "    <tr>\n",
       "      <th>4</th>\n",
       "      <td>select</td>\n",
       "      <td>3010968</td>\n",
       "    </tr>\n",
       "    <tr>\n",
       "      <th>...</th>\n",
       "      <td>...</td>\n",
       "      <td>...</td>\n",
       "    </tr>\n",
       "    <tr>\n",
       "      <th>16311</th>\n",
       "      <td>use</td>\n",
       "      <td>1358922</td>\n",
       "    </tr>\n",
       "    <tr>\n",
       "      <th>16312</th>\n",
       "      <td>use</td>\n",
       "      <td>1540125</td>\n",
       "    </tr>\n",
       "    <tr>\n",
       "      <th>16313</th>\n",
       "      <td>use</td>\n",
       "      <td>1519777</td>\n",
       "    </tr>\n",
       "    <tr>\n",
       "      <th>16314</th>\n",
       "      <td>use</td>\n",
       "      <td>454342</td>\n",
       "    </tr>\n",
       "    <tr>\n",
       "      <th>16315</th>\n",
       "      <td>use</td>\n",
       "      <td>294785</td>\n",
       "    </tr>\n",
       "  </tbody>\n",
       "</table>\n",
       "<p>16316 rows × 2 columns</p>\n",
       "</div>"
      ],
      "text/plain": [
       "      sql_keyword query_time\n",
       "0          select    3030934\n",
       "1          select    9413563\n",
       "2          select    3009603\n",
       "3          select    9333081\n",
       "4          select    3010968\n",
       "...           ...        ...\n",
       "16311         use    1358922\n",
       "16312         use    1540125\n",
       "16313         use    1519777\n",
       "16314         use     454342\n",
       "16315         use     294785\n",
       "\n",
       "[16316 rows x 2 columns]"
      ]
     },
     "execution_count": 66,
     "metadata": {},
     "output_type": "execute_result"
    }
   ],
   "source": [
    "df_slow_logs_op_execution"
   ]
  },
  {
   "cell_type": "code",
   "execution_count": 67,
   "metadata": {},
   "outputs": [
    {
     "data": {
      "text/plain": [
       "<matplotlib.axes._subplots.AxesSubplot at 0x7fcad48ad610>"
      ]
     },
     "execution_count": 67,
     "metadata": {},
     "output_type": "execute_result"
    },
    {
     "data": {
      "image/png": "[encoded data removed]",
      "text/plain": [
       "<Figure size 864x864 with 1 Axes>"
      ]
     },
     "metadata": {
      "needs_background": "light"
     },
     "output_type": "display_data"
    }
   ],
   "source": [
    "fig = plt.figure(figsize=(12,12))\n",
    "sns.boxplot(x=\"sql_keyword\", y=\"query_time\", data=df_slow_logs_op_execution)"
   ]
  },
  {
   "cell_type": "code",
   "execution_count": 68,
   "metadata": {},
   "outputs": [
    {
     "data": {
      "text/html": [
       "<div>\n",
       "<style scoped>\n",
       "    .dataframe tbody tr th:only-of-type {\n",
       "        vertical-align: middle;\n",
       "    }\n",
       "\n",
       "    .dataframe tbody tr th {\n",
       "        vertical-align: top;\n",
       "    }\n",
       "\n",
       "    .dataframe thead th {\n",
       "        text-align: right;\n",
       "    }\n",
       "</style>\n",
       "<table border=\"1\" class=\"dataframe\">\n",
       "  <thead>\n",
       "    <tr style=\"text-align: right;\">\n",
       "      <th></th>\n",
       "      <th>sql_keyword</th>\n",
       "      <th>query_time</th>\n",
       "    </tr>\n",
       "  </thead>\n",
       "  <tbody>\n",
       "    <tr>\n",
       "      <th>13875</th>\n",
       "      <td>avg</td>\n",
       "      <td>116082</td>\n",
       "    </tr>\n",
       "    <tr>\n",
       "      <th>13903</th>\n",
       "      <td>avg</td>\n",
       "      <td>116185</td>\n",
       "    </tr>\n",
       "    <tr>\n",
       "      <th>13937</th>\n",
       "      <td>avg</td>\n",
       "      <td>116507</td>\n",
       "    </tr>\n",
       "    <tr>\n",
       "      <th>13805</th>\n",
       "      <td>avg</td>\n",
       "      <td>116513</td>\n",
       "    </tr>\n",
       "    <tr>\n",
       "      <th>13828</th>\n",
       "      <td>avg</td>\n",
       "      <td>116533</td>\n",
       "    </tr>\n",
       "    <tr>\n",
       "      <th>...</th>\n",
       "      <td>...</td>\n",
       "      <td>...</td>\n",
       "    </tr>\n",
       "    <tr>\n",
       "      <th>13697</th>\n",
       "      <td>avg</td>\n",
       "      <td>9623789</td>\n",
       "    </tr>\n",
       "    <tr>\n",
       "      <th>13780</th>\n",
       "      <td>avg</td>\n",
       "      <td>9625275</td>\n",
       "    </tr>\n",
       "    <tr>\n",
       "      <th>13733</th>\n",
       "      <td>avg</td>\n",
       "      <td>9659742</td>\n",
       "    </tr>\n",
       "    <tr>\n",
       "      <th>13666</th>\n",
       "      <td>avg</td>\n",
       "      <td>9682569</td>\n",
       "    </tr>\n",
       "    <tr>\n",
       "      <th>13703</th>\n",
       "      <td>avg</td>\n",
       "      <td>9719274</td>\n",
       "    </tr>\n",
       "  </tbody>\n",
       "</table>\n",
       "<p>596 rows × 2 columns</p>\n",
       "</div>"
      ],
      "text/plain": [
       "      sql_keyword query_time\n",
       "13875         avg     116082\n",
       "13903         avg     116185\n",
       "13937         avg     116507\n",
       "13805         avg     116513\n",
       "13828         avg     116533\n",
       "...           ...        ...\n",
       "13697         avg    9623789\n",
       "13780         avg    9625275\n",
       "13733         avg    9659742\n",
       "13666         avg    9682569\n",
       "13703         avg    9719274\n",
       "\n",
       "[596 rows x 2 columns]"
      ]
     },
     "execution_count": 68,
     "metadata": {},
     "output_type": "execute_result"
    }
   ],
   "source": [
    "df_slow_logs_op_execution[df_slow_logs_op_execution['sql_keyword'] == 'avg'].sort_values(by='query_time')"
   ]
  },
  {
   "cell_type": "markdown",
   "metadata": {},
   "source": [
    "# Boxplot showing the distribution of the execution time for each sql keyword\n",
    "## there are some notable insights:\n",
    "\n",
    "## 1 - we saw in the distribution of the sql keywords that some of these operations are not so frequent. They also seem to have not much impact in the execution of the quey (ex: insert, update, show, set, quit, purge, flush and statistics)\n",
    "\n",
    "## 2 - the join operations, as well known in the DB literature, have a bigger impact in the execution time (even if they are used in combination with other keywords, it is just remarkable that this behaviour can be visually seen in the plot)\n",
    "\n",
    "## 3 - the group of outliers with execution time close to 1e7 contains most of the main sql keywords (select (obviously), where, count, ..) but surprisingly no join operation is involved\n",
    "\n",
    "## 4 - avg keyword has a low median, meaning there are many small query execution times including avg, but also it can be found in queries with higher execution time"
   ]
  },
  {
   "cell_type": "code",
   "execution_count": 69,
   "metadata": {},
   "outputs": [],
   "source": [
    "####################### TABLES ##########################"
   ]
  },
  {
   "cell_type": "markdown",
   "metadata": {},
   "source": [
    "# We repeat the analysis of the keywords with the names of the tables"
   ]
  },
  {
   "cell_type": "code",
   "execution_count": 70,
   "metadata": {},
   "outputs": [],
   "source": [
    "tables = ['customer','lineitem','nation','orders','part','partsupp','region','supplier']"
   ]
  },
  {
   "cell_type": "code",
   "execution_count": 71,
   "metadata": {},
   "outputs": [],
   "source": [
    "for t in tables:\n",
    "    df_slow_logs_filtered[t] = df_slow_logs_filtered['sql_text'].apply(lambda x: x.count(t))"
   ]
  },
  {
   "cell_type": "code",
   "execution_count": 72,
   "metadata": {},
   "outputs": [
    {
     "data": {
      "text/plain": [
       "<matplotlib.axes._subplots.AxesSubplot at 0x7fcad4692790>"
      ]
     },
     "execution_count": 72,
     "metadata": {},
     "output_type": "execute_result"
    },
    {
     "data": {
      "image/png": "[encoded data removed]",
      "text/plain": [
       "<Figure size 720x720 with 1 Axes>"
      ]
     },
     "metadata": {
      "needs_background": "light"
     },
     "output_type": "display_data"
    }
   ],
   "source": [
    "fig = plt.figure(figsize=(10,10))\n",
    "df_slow_logs_filtered[tables].sum().plot.bar()"
   ]
  },
  {
   "cell_type": "code",
   "execution_count": 73,
   "metadata": {},
   "outputs": [],
   "source": [
    "df_slow_logs_t_execution = pd.DataFrame(columns=['table','query_time'])"
   ]
  },
  {
   "cell_type": "code",
   "execution_count": 74,
   "metadata": {},
   "outputs": [],
   "source": [
    "for t in tables:\n",
    "    df = df_slow_logs_filtered[df_slow_logs_filtered[t] > 0]\n",
    "    df_slow_logs_t_execution = df_slow_logs_t_execution.append(\n",
    "                                pd.DataFrame(list(zip([t for i in range(0,len(df))],list(df['query_time']))),\n",
    "                                columns =['table','query_time']))"
   ]
  },
  {
   "cell_type": "code",
   "execution_count": 75,
   "metadata": {},
   "outputs": [
    {
     "data": {
      "text/html": [
       "<div>\n",
       "<style scoped>\n",
       "    .dataframe tbody tr th:only-of-type {\n",
       "        vertical-align: middle;\n",
       "    }\n",
       "\n",
       "    .dataframe tbody tr th {\n",
       "        vertical-align: top;\n",
       "    }\n",
       "\n",
       "    .dataframe thead th {\n",
       "        text-align: right;\n",
       "    }\n",
       "</style>\n",
       "<table border=\"1\" class=\"dataframe\">\n",
       "  <thead>\n",
       "    <tr style=\"text-align: right;\">\n",
       "      <th></th>\n",
       "      <th>table</th>\n",
       "      <th>query_time</th>\n",
       "    </tr>\n",
       "  </thead>\n",
       "  <tbody>\n",
       "    <tr>\n",
       "      <th>0</th>\n",
       "      <td>customer</td>\n",
       "      <td>3685580</td>\n",
       "    </tr>\n",
       "    <tr>\n",
       "      <th>1</th>\n",
       "      <td>customer</td>\n",
       "      <td>3754431</td>\n",
       "    </tr>\n",
       "    <tr>\n",
       "      <th>2</th>\n",
       "      <td>customer</td>\n",
       "      <td>3669971</td>\n",
       "    </tr>\n",
       "    <tr>\n",
       "      <th>3</th>\n",
       "      <td>customer</td>\n",
       "      <td>3646651</td>\n",
       "    </tr>\n",
       "    <tr>\n",
       "      <th>4</th>\n",
       "      <td>customer</td>\n",
       "      <td>3572612</td>\n",
       "    </tr>\n",
       "    <tr>\n",
       "      <th>...</th>\n",
       "      <td>...</td>\n",
       "      <td>...</td>\n",
       "    </tr>\n",
       "    <tr>\n",
       "      <th>1408</th>\n",
       "      <td>supplier</td>\n",
       "      <td>2458301</td>\n",
       "    </tr>\n",
       "    <tr>\n",
       "      <th>1409</th>\n",
       "      <td>supplier</td>\n",
       "      <td>2130213</td>\n",
       "    </tr>\n",
       "    <tr>\n",
       "      <th>1410</th>\n",
       "      <td>supplier</td>\n",
       "      <td>3181292</td>\n",
       "    </tr>\n",
       "    <tr>\n",
       "      <th>1411</th>\n",
       "      <td>supplier</td>\n",
       "      <td>1813424</td>\n",
       "    </tr>\n",
       "    <tr>\n",
       "      <th>1412</th>\n",
       "      <td>supplier</td>\n",
       "      <td>3036127</td>\n",
       "    </tr>\n",
       "  </tbody>\n",
       "</table>\n",
       "<p>12016 rows × 2 columns</p>\n",
       "</div>"
      ],
      "text/plain": [
       "         table query_time\n",
       "0     customer    3685580\n",
       "1     customer    3754431\n",
       "2     customer    3669971\n",
       "3     customer    3646651\n",
       "4     customer    3572612\n",
       "...        ...        ...\n",
       "1408  supplier    2458301\n",
       "1409  supplier    2130213\n",
       "1410  supplier    3181292\n",
       "1411  supplier    1813424\n",
       "1412  supplier    3036127\n",
       "\n",
       "[12016 rows x 2 columns]"
      ]
     },
     "execution_count": 75,
     "metadata": {},
     "output_type": "execute_result"
    }
   ],
   "source": [
    "df_slow_logs_t_execution"
   ]
  },
  {
   "cell_type": "code",
   "execution_count": 76,
   "metadata": {},
   "outputs": [
    {
     "data": {
      "text/plain": [
       "<matplotlib.axes._subplots.AxesSubplot at 0x7fcad3692eb0>"
      ]
     },
     "execution_count": 76,
     "metadata": {},
     "output_type": "execute_result"
    },
    {
     "data": {
      "image/png": "[encoded data removed]",
      "text/plain": [
       "<Figure size 864x864 with 1 Axes>"
      ]
     },
     "metadata": {
      "needs_background": "light"
     },
     "output_type": "display_data"
    }
   ],
   "source": [
    "fig = plt.figure(figsize=(12,12))\n",
    "sns.boxplot(x=\"table\", y=\"query_time\", data=df_slow_logs_t_execution)"
   ]
  },
  {
   "cell_type": "markdown",
   "metadata": {},
   "source": [
    "## differently from slq keywords where there were some visual hints, here we can just observe that the group of outliers is all concentrated in lineitem table, but we cannot say that in general it is a slow performing table"
   ]
  },
  {
   "cell_type": "code",
   "execution_count": 77,
   "metadata": {
    "scrolled": true
   },
   "outputs": [
    {
     "data": {
      "text/plain": [
       "151"
      ]
     },
     "execution_count": 77,
     "metadata": {},
     "output_type": "execute_result"
    }
   ],
   "source": [
    "## still considering the outliers we can see their query have a common pattern\n",
    "len(df_slow_logs[df_slow_logs['query_time'] > 5000000])"
   ]
  },
  {
   "cell_type": "code",
   "execution_count": 78,
   "metadata": {},
   "outputs": [
    {
     "data": {
      "text/html": [
       "<div>\n",
       "<style scoped>\n",
       "    .dataframe tbody tr th:only-of-type {\n",
       "        vertical-align: middle;\n",
       "    }\n",
       "\n",
       "    .dataframe tbody tr th {\n",
       "        vertical-align: top;\n",
       "    }\n",
       "\n",
       "    .dataframe thead th {\n",
       "        text-align: right;\n",
       "    }\n",
       "</style>\n",
       "<table border=\"1\" class=\"dataframe\">\n",
       "  <thead>\n",
       "    <tr style=\"text-align: right;\">\n",
       "      <th></th>\n",
       "      <th>user_host</th>\n",
       "      <th>query_time</th>\n",
       "      <th>lock_time</th>\n",
       "      <th>rows_sent</th>\n",
       "      <th>rows_examined</th>\n",
       "      <th>db</th>\n",
       "      <th>sql_text</th>\n",
       "      <th>thread_id</th>\n",
       "    </tr>\n",
       "  </thead>\n",
       "  <tbody>\n",
       "    <tr>\n",
       "      <th>515</th>\n",
       "      <td>G-185</td>\n",
       "      <td>11073425</td>\n",
       "      <td>98</td>\n",
       "      <td>77212</td>\n",
       "      <td>154424</td>\n",
       "      <td>tpch</td>\n",
       "      <td>/* applicationname=datagrip 2020.2.3 */ select * from mysql.slow_log order by start_time desc</td>\n",
       "      <td>63</td>\n",
       "    </tr>\n",
       "    <tr>\n",
       "      <th>2002</th>\n",
       "      <td>G-172</td>\n",
       "      <td>9513722</td>\n",
       "      <td>145</td>\n",
       "      <td>4</td>\n",
       "      <td>4423667</td>\n",
       "      <td>tpch</td>\n",
       "      <td>-- using 1164972402 as a seed to the rng   select l_returnflag, l_linestatus, sum(l_quantity) as sum_qty, sum(l_extendedprice) as sum_base_price, sum(l_extendedprice * (1 - l_discount)) as sum_disc_price, sum(l_extendedprice * (1 - l_discount) * (1 + l_tax)) as sum_charge, avg(l_quantity) as avg_qty, avg(l_extendedprice) as avg_price, avg(l_discount) as avg_disc, count(*) as count_order from lineitem where l_shipdate &lt;= date '1998-12-01' - interval '60' day group by l_returnflag, l_linestatus order by l_returnflag, l_linestatus</td>\n",
       "      <td>40</td>\n",
       "    </tr>\n",
       "    <tr>\n",
       "      <th>2038</th>\n",
       "      <td>G-172</td>\n",
       "      <td>9528016</td>\n",
       "      <td>157</td>\n",
       "      <td>4</td>\n",
       "      <td>4423667</td>\n",
       "      <td>tpch</td>\n",
       "      <td>-- using 377385426 as a seed to the rng   select l_returnflag, l_linestatus, sum(l_quantity) as sum_qty, sum(l_extendedprice) as sum_base_price, sum(l_extendedprice * (1 - l_discount)) as sum_disc_price, sum(l_extendedprice * (1 - l_discount) * (1 + l_tax)) as sum_charge, avg(l_quantity) as avg_qty, avg(l_extendedprice) as avg_price, avg(l_discount) as avg_disc, count(*) as count_order from lineitem where l_shipdate &lt;= date '1998-12-01' - interval '73' day group by l_returnflag, l_linestatus order by l_returnflag, l_linestatus</td>\n",
       "      <td>40</td>\n",
       "    </tr>\n",
       "  </tbody>\n",
       "</table>\n",
       "</div>"
      ],
      "text/plain": [
       "     user_host  query_time  lock_time  rows_sent  rows_examined    db  \\\n",
       "515      G-185    11073425         98      77212         154424  tpch   \n",
       "2002     G-172     9513722        145          4        4423667  tpch   \n",
       "2038     G-172     9528016        157          4        4423667  tpch   \n",
       "\n",
       "                                                                                                                                                                                                                                                                                                                                                                                                                                                                                                                                                   sql_text  \\\n",
       "515                                                                                                                                                                                                                                                                                                                                                                                                                                                           /* applicationname=datagrip 2020.2.3 */ select * from mysql.slow_log order by start_time desc   \n",
       "2002  -- using 1164972402 as a seed to the rng   select l_returnflag, l_linestatus, sum(l_quantity) as sum_qty, sum(l_extendedprice) as sum_base_price, sum(l_extendedprice * (1 - l_discount)) as sum_disc_price, sum(l_extendedprice * (1 - l_discount) * (1 + l_tax)) as sum_charge, avg(l_quantity) as avg_qty, avg(l_extendedprice) as avg_price, avg(l_discount) as avg_disc, count(*) as count_order from lineitem where l_shipdate <= date '1998-12-01' - interval '60' day group by l_returnflag, l_linestatus order by l_returnflag, l_linestatus   \n",
       "2038   -- using 377385426 as a seed to the rng   select l_returnflag, l_linestatus, sum(l_quantity) as sum_qty, sum(l_extendedprice) as sum_base_price, sum(l_extendedprice * (1 - l_discount)) as sum_disc_price, sum(l_extendedprice * (1 - l_discount) * (1 + l_tax)) as sum_charge, avg(l_quantity) as avg_qty, avg(l_extendedprice) as avg_price, avg(l_discount) as avg_disc, count(*) as count_order from lineitem where l_shipdate <= date '1998-12-01' - interval '73' day group by l_returnflag, l_linestatus order by l_returnflag, l_linestatus   \n",
       "\n",
       "      thread_id  \n",
       "515          63  \n",
       "2002         40  \n",
       "2038         40  "
      ]
     },
     "execution_count": 78,
     "metadata": {},
     "output_type": "execute_result"
    }
   ],
   "source": [
    "df_slow_logs[df_slow_logs['query_time'] > 5000000][0:3]"
   ]
  },
  {
   "cell_type": "code",
   "execution_count": 79,
   "metadata": {},
   "outputs": [],
   "source": [
    "pattern_outliers = \"elect l_returnflag, l_linestatus, sum(l_quantity) as sum_qty, sum(l_extendedprice) as sum_base_price, sum(l_extendedprice * (1 - l_discount)) as sum_disc_price, sum(l_extendedprice * (1 - l_discount) * (1 + l_tax)) as sum_charge, avg(l_quantity) as avg_qty, avg(l_extendedprice) as avg_price, avg(l_discount) as avg_disc, count(*) as count_order from lineitem where l_shipdate <= date '1998-12-01' - interval\""
   ]
  },
  {
   "cell_type": "code",
   "execution_count": 80,
   "metadata": {},
   "outputs": [
    {
     "data": {
      "text/plain": [
       "150"
      ]
     },
     "execution_count": 80,
     "metadata": {},
     "output_type": "execute_result"
    }
   ],
   "source": [
    "len(df_slow_logs[df_slow_logs['sql_text'].str.find(pattern_outliers) >= 0])"
   ]
  },
  {
   "cell_type": "markdown",
   "metadata": {},
   "source": [
    "## we can keep only one of these outliers, the one with worse performance"
   ]
  },
  {
   "cell_type": "code",
   "execution_count": 81,
   "metadata": {},
   "outputs": [
    {
     "data": {
      "text/plain": [
       "3803"
      ]
     },
     "execution_count": 81,
     "metadata": {},
     "output_type": "execute_result"
    }
   ],
   "source": [
    "len(df_slow_logs_filtered)"
   ]
  },
  {
   "cell_type": "code",
   "execution_count": 82,
   "metadata": {},
   "outputs": [],
   "source": [
    "df_outliers = df_slow_logs_filtered[df_slow_logs_filtered['sql_text'].str.find(pattern_outliers) >= 0]\n",
    "df_slow_logs_filtered = df_slow_logs_filtered[df_slow_logs_filtered['sql_text'].str.find(pattern_outliers) < 0]"
   ]
  },
  {
   "cell_type": "code",
   "execution_count": 83,
   "metadata": {},
   "outputs": [
    {
     "data": {
      "text/plain": [
       "3653"
      ]
     },
     "execution_count": 83,
     "metadata": {},
     "output_type": "execute_result"
    }
   ],
   "source": [
    "len(df_slow_logs_filtered)"
   ]
  },
  {
   "cell_type": "code",
   "execution_count": 84,
   "metadata": {},
   "outputs": [
    {
     "data": {
      "text/plain": [
       "150"
      ]
     },
     "execution_count": 84,
     "metadata": {},
     "output_type": "execute_result"
    }
   ],
   "source": [
    "len(df_outliers)"
   ]
  },
  {
   "cell_type": "code",
   "execution_count": 85,
   "metadata": {},
   "outputs": [],
   "source": [
    "df_slow_logs_filtered = df_slow_logs_filtered.append(df_outliers.sort_values(by='query_time')[0:1])"
   ]
  },
  {
   "cell_type": "markdown",
   "metadata": {},
   "source": [
    "# =============== MODEL ================== #"
   ]
  },
  {
   "cell_type": "markdown",
   "metadata": {},
   "source": [
    "## considering the problem we have, it seems suitable to opt for a regression with random forests"
   ]
  },
  {
   "cell_type": "code",
   "execution_count": 86,
   "metadata": {},
   "outputs": [],
   "source": [
    "# we will be using as features only the ones extracted from the query, so tables and sql_operations\n",
    "X = df_slow_logs_filtered[sql_operations+tables]"
   ]
  },
  {
   "cell_type": "code",
   "execution_count": 87,
   "metadata": {},
   "outputs": [],
   "source": [
    "y = df_slow_logs_filtered['query_time']"
   ]
  },
  {
   "cell_type": "code",
   "execution_count": 88,
   "metadata": {},
   "outputs": [
    {
     "data": {
      "text/plain": [
       "0       3030934\n",
       "2       3009603\n",
       "4       3010968\n",
       "6       3014640\n",
       "8       3020836\n",
       "         ...   \n",
       "3799       2734\n",
       "3800       2672\n",
       "3801        130\n",
       "3802       1595\n",
       "23      9147795\n",
       "Name: query_time, Length: 3654, dtype: int64"
      ]
     },
     "execution_count": 88,
     "metadata": {},
     "output_type": "execute_result"
    }
   ],
   "source": [
    "y"
   ]
  },
  {
   "cell_type": "code",
   "execution_count": 89,
   "metadata": {},
   "outputs": [],
   "source": [
    "from sklearn.model_selection import train_test_split"
   ]
  },
  {
   "cell_type": "code",
   "execution_count": 90,
   "metadata": {},
   "outputs": [],
   "source": [
    "X_train, X_test, y_train, y_test = train_test_split(X, y, test_size=0.20, random_state=101)"
   ]
  },
  {
   "cell_type": "markdown",
   "metadata": {},
   "source": [
    "## normalizing the data"
   ]
  },
  {
   "cell_type": "code",
   "execution_count": 91,
   "metadata": {},
   "outputs": [],
   "source": [
    "from sklearn.preprocessing import MinMaxScaler"
   ]
  },
  {
   "cell_type": "code",
   "execution_count": 92,
   "metadata": {},
   "outputs": [],
   "source": [
    "scaler = MinMaxScaler()"
   ]
  },
  {
   "cell_type": "code",
   "execution_count": 93,
   "metadata": {},
   "outputs": [],
   "source": [
    "X_train = scaler.fit_transform(X_train)"
   ]
  },
  {
   "cell_type": "code",
   "execution_count": 94,
   "metadata": {},
   "outputs": [],
   "source": [
    "X_test = scaler.transform(X_test)"
   ]
  },
  {
   "cell_type": "code",
   "execution_count": 95,
   "metadata": {},
   "outputs": [
    {
     "data": {
      "text/plain": [
       "(2923, 28)"
      ]
     },
     "execution_count": 95,
     "metadata": {},
     "output_type": "execute_result"
    }
   ],
   "source": [
    "X_train.shape"
   ]
  },
  {
   "cell_type": "code",
   "execution_count": 96,
   "metadata": {},
   "outputs": [
    {
     "data": {
      "text/plain": [
       "(731, 28)"
      ]
     },
     "execution_count": 96,
     "metadata": {},
     "output_type": "execute_result"
    }
   ],
   "source": [
    "X_test.shape"
   ]
  },
  {
   "cell_type": "markdown",
   "metadata": {},
   "source": [
    "## model implementation"
   ]
  },
  {
   "cell_type": "code",
   "execution_count": 97,
   "metadata": {},
   "outputs": [
    {
     "data": {
      "text/plain": [
       "RandomForestRegressor(n_estimators=1000, random_state=42)"
      ]
     },
     "execution_count": 97,
     "metadata": {},
     "output_type": "execute_result"
    }
   ],
   "source": [
    "# Import the model we are using\n",
    "from sklearn.ensemble import RandomForestRegressor# Instantiate model with 1000 decision trees\n",
    "rf = RandomForestRegressor(n_estimators = 1000, random_state = 42)# Train the model on training data\n",
    "rf.fit(X_train, y_train)"
   ]
  },
  {
   "cell_type": "code",
   "execution_count": 98,
   "metadata": {},
   "outputs": [],
   "source": [
    "import numpy as np"
   ]
  },
  {
   "cell_type": "code",
   "execution_count": 99,
   "metadata": {},
   "outputs": [
    {
     "name": "stdout",
     "output_type": "stream",
     "text": [
      "Mean Absolute Error: 136590.72 degrees.\n"
     ]
    }
   ],
   "source": [
    "predictions = rf.predict(X_test)# Calculate the absolute errors\n",
    "errors = abs(predictions - y_test)# Print out the mean absolute error (mae)\n",
    "print('Mean Absolute Error:', round(np.mean(errors), 2), 'degrees.')"
   ]
  },
  {
   "cell_type": "code",
   "execution_count": 100,
   "metadata": {},
   "outputs": [],
   "source": [
    "from sklearn.metrics import mean_squared_error,mean_absolute_error,explained_variance_score"
   ]
  },
  {
   "cell_type": "code",
   "execution_count": 101,
   "metadata": {},
   "outputs": [
    {
     "data": {
      "text/plain": [
       "136590.71958977575"
      ]
     },
     "execution_count": 101,
     "metadata": {},
     "output_type": "execute_result"
    }
   ],
   "source": [
    "mean_absolute_error(y_test,predictions)"
   ]
  },
  {
   "cell_type": "code",
   "execution_count": 102,
   "metadata": {},
   "outputs": [
    {
     "data": {
      "text/plain": [
       "282827.9401375958"
      ]
     },
     "execution_count": 102,
     "metadata": {},
     "output_type": "execute_result"
    }
   ],
   "source": [
    "np.sqrt(mean_squared_error(y_test,predictions))"
   ]
  },
  {
   "cell_type": "code",
   "execution_count": 103,
   "metadata": {},
   "outputs": [
    {
     "data": {
      "text/plain": [
       "0.9286799409347493"
      ]
     },
     "execution_count": 103,
     "metadata": {},
     "output_type": "execute_result"
    }
   ],
   "source": [
    "explained_variance_score(y_test,predictions)"
   ]
  },
  {
   "cell_type": "code",
   "execution_count": 104,
   "metadata": {},
   "outputs": [
    {
     "data": {
      "text/plain": [
       "[<matplotlib.lines.Line2D at 0x7fcad0e8e6a0>]"
      ]
     },
     "execution_count": 104,
     "metadata": {},
     "output_type": "execute_result"
    },
    {
     "data": {
      "image/png": "[encoded data removed]",
      "text/plain": [
       "<Figure size 432x288 with 1 Axes>"
      ]
     },
     "metadata": {
      "needs_background": "light"
     },
     "output_type": "display_data"
    }
   ],
   "source": [
    "# Our predictions\n",
    "plt.scatter(y_test,predictions)\n",
    "\n",
    "# Perfect predictions\n",
    "plt.plot(y_test,y_test,'r')"
   ]
  },
  {
   "cell_type": "code",
   "execution_count": 105,
   "metadata": {},
   "outputs": [],
   "source": [
    "errors = y_test.values.reshape(731, 1) - predictions"
   ]
  },
  {
   "cell_type": "code",
   "execution_count": 106,
   "metadata": {},
   "outputs": [
    {
     "data": {
      "text/plain": [
       "<matplotlib.axes._subplots.AxesSubplot at 0x7fcad0ea71c0>"
      ]
     },
     "execution_count": 106,
     "metadata": {},
     "output_type": "execute_result"
    },
    {
     "data": {
      "image/png": "[encoded data removed]",
      "text/plain": [
       "<Figure size 432x288 with 1 Axes>"
      ]
     },
     "metadata": {
      "needs_background": "light"
     },
     "output_type": "display_data"
    }
   ],
   "source": [
    "sns.distplot(errors)"
   ]
  },
  {
   "cell_type": "code",
   "execution_count": 107,
   "metadata": {},
   "outputs": [],
   "source": [
    "import pickle"
   ]
  },
  {
   "cell_type": "code",
   "execution_count": 108,
   "metadata": {},
   "outputs": [],
   "source": [
    "with open('./model/model_query_exec_prediction', 'wb') as file:  \n",
    "    pickle.dump(rf, file)"
   ]
  },
  {
   "cell_type": "code",
   "execution_count": 109,
   "metadata": {},
   "outputs": [],
   "source": [
    "with open('./model/scaler_query_exec_prediction', 'wb') as file:  \n",
    "    pickle.dump(scaler, file)"
   ]
  },
  {
   "cell_type": "code",
   "execution_count": null,
   "metadata": {},
   "outputs": [],
   "source": []
  }
 ],
 "metadata": {
  "kernelspec": {
   "display_name": "Python 3",
   "language": "python",
   "name": "python3"
  },
  "language_info": {
   "codemirror_mode": {
    "name": "ipython",
    "version": 3
   },
   "file_extension": ".py",
   "mimetype": "text/x-python",
   "name": "python",
   "nbconvert_exporter": "python",
   "pygments_lexer": "ipython3",
   "version": "3.8.3"
  }
 },
 "nbformat": 4,
 "nbformat_minor": 4
}
